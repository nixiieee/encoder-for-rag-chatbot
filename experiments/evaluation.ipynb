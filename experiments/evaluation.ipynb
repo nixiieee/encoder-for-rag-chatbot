{
 "cells": [
  {
   "cell_type": "code",
   "execution_count": 90,
   "id": "f1a83dd9-bd40-41bb-b419-0cdb40042fb1",
   "metadata": {
    "execution": {
     "iopub.execute_input": "2024-06-18T11:44:52.134594Z",
     "iopub.status.busy": "2024-06-18T11:44:52.133817Z",
     "iopub.status.idle": "2024-06-18T11:44:52.166989Z",
     "shell.execute_reply": "2024-06-18T11:44:52.166370Z",
     "shell.execute_reply.started": "2024-06-18T11:44:52.134559Z"
    },
    "tags": []
   },
   "outputs": [],
   "source": [
    "version = '_tiny2_context_softmax_final'\n",
    "max_length=2048"
   ]
  },
  {
   "cell_type": "code",
   "execution_count": 78,
   "id": "297851bc-9072-40a7-a7d3-d72dde3080a0",
   "metadata": {
    "execution": {
     "iopub.execute_input": "2024-06-18T11:42:39.256488Z",
     "iopub.status.busy": "2024-06-18T11:42:39.255432Z",
     "iopub.status.idle": "2024-06-18T11:42:39.866984Z",
     "shell.execute_reply": "2024-06-18T11:42:39.866245Z",
     "shell.execute_reply.started": "2024-06-18T11:42:39.256445Z"
    },
    "tags": []
   },
   "outputs": [],
   "source": [
    "from transformers import AutoTokenizer, AutoModel\n",
    "import torch\n",
    "'''\n",
    "tokenizer = AutoTokenizer.from_pretrained(\"ai-forever/sbert_large_mt_nlu_ru\")\n",
    "model_question = AutoModel.from_pretrained(\"ai-forever/sbert_large_mt_nlu_ru\")\n",
    "model_answer = AutoModel.from_pretrained(\"ai-forever/sbert_large_mt_nlu_ru\")\n",
    "'''\n",
    "tokenizer = AutoTokenizer.from_pretrained(\"cointegrated/rubert-tiny2\")\n",
    "model_question = AutoModel.from_pretrained(\"cointegrated/rubert-tiny2\")\n",
    "model_answer = AutoModel.from_pretrained(\"cointegrated/rubert-tiny2\")"
   ]
  },
  {
   "cell_type": "code",
   "execution_count": 91,
   "id": "c047999b-2fde-41ff-a68a-be5c44b97d14",
   "metadata": {
    "execution": {
     "iopub.execute_input": "2024-06-18T11:44:53.455383Z",
     "iopub.status.busy": "2024-06-18T11:44:53.454873Z",
     "iopub.status.idle": "2024-06-18T11:45:00.070069Z",
     "shell.execute_reply": "2024-06-18T11:45:00.069216Z",
     "shell.execute_reply.started": "2024-06-18T11:44:53.455343Z"
    },
    "tags": []
   },
   "outputs": [
    {
     "data": {
      "text/plain": [
       "<All keys matched successfully>"
      ]
     },
     "execution_count": 91,
     "metadata": {},
     "output_type": "execute_result"
    }
   ],
   "source": [
    "model_question.load_state_dict(torch.load(f'models/model_anchor{version}.bin', map_location=torch.device('cpu')))\n",
    "model_answer.load_state_dict(torch.load(f'models/model_pos_neg{version}.bin', map_location=torch.device('cpu')))"
   ]
  },
  {
   "cell_type": "code",
   "execution_count": 92,
   "id": "ce4f0f82-6837-4fa5-938b-6b77d0adc1bc",
   "metadata": {
    "execution": {
     "iopub.execute_input": "2024-06-18T11:45:00.073040Z",
     "iopub.status.busy": "2024-06-18T11:45:00.071636Z",
     "iopub.status.idle": "2024-06-18T11:45:00.128410Z",
     "shell.execute_reply": "2024-06-18T11:45:00.127716Z",
     "shell.execute_reply.started": "2024-06-18T11:45:00.073003Z"
    },
    "tags": []
   },
   "outputs": [],
   "source": [
    "def embed_bert_cls(model_output):\n",
    "    embeddings = model_output.last_hidden_state[:, 0, :]\n",
    "    embeddings = torch.nn.functional.normalize(embeddings)\n",
    "    return embeddings\n",
    "\n",
    "def get_question_embs(question):\n",
    "    encoded_input = tokenizer(question, padding=True, truncation=True, max_length=max_length, return_tensors='pt')\n",
    "\n",
    "    with torch.no_grad():\n",
    "        model_output = model_question(**encoded_input)\n",
    "        \n",
    "    question_embeddings = embed_bert_cls(model_output)\n",
    "    return question_embeddings\n",
    "\n",
    "def get_answer_embs(answer):\n",
    "    encoded_input = tokenizer(answer, padding=True, truncation=True, max_length=max_length, return_tensors='pt')\n",
    "\n",
    "    with torch.no_grad():\n",
    "        model_output = model_answer(**encoded_input)\n",
    "        \n",
    "    answer_embeddings = embed_bert_cls(model_output)\n",
    "    return answer_embeddings"
   ]
  },
  {
   "cell_type": "code",
   "execution_count": 93,
   "id": "5ea72270-b17e-4adf-b6ce-2c602e8241e1",
   "metadata": {
    "execution": {
     "iopub.execute_input": "2024-06-18T11:45:00.130324Z",
     "iopub.status.busy": "2024-06-18T11:45:00.129272Z",
     "iopub.status.idle": "2024-06-18T11:45:00.295716Z",
     "shell.execute_reply": "2024-06-18T11:45:00.294946Z",
     "shell.execute_reply.started": "2024-06-18T11:45:00.130277Z"
    },
    "tags": []
   },
   "outputs": [],
   "source": [
    "import pandas as pd\n",
    "df_test = pd.read_csv('data/val_onestr.csv')\n",
    "df = pd.read_csv('data/grammar_cities_fix.csv')"
   ]
  },
  {
   "cell_type": "code",
   "execution_count": 94,
   "id": "5546a6cd-5c6d-4e33-8b79-d872a165e0f9",
   "metadata": {
    "execution": {
     "iopub.execute_input": "2024-06-18T11:45:00.298148Z",
     "iopub.status.busy": "2024-06-18T11:45:00.297721Z",
     "iopub.status.idle": "2024-06-18T11:45:00.368307Z",
     "shell.execute_reply": "2024-06-18T11:45:00.367521Z",
     "shell.execute_reply.started": "2024-06-18T11:45:00.298113Z"
    },
    "tags": []
   },
   "outputs": [],
   "source": [
    "import pickle\n",
    "\n",
    "def write_list(filename, to_store):\n",
    "    with open(filename, 'wb') as fp:\n",
    "        pickle.dump(to_store, fp)\n",
    "\n",
    "def read_list(filename):\n",
    "    with open(filename, 'rb') as fp:\n",
    "        n_list = pickle.load(fp)\n",
    "        return n_list"
   ]
  },
  {
   "cell_type": "code",
   "execution_count": 95,
   "id": "d54b3b81-d3f7-4e47-a432-291a79ecb971",
   "metadata": {
    "execution": {
     "iopub.execute_input": "2024-06-18T11:45:00.371137Z",
     "iopub.status.busy": "2024-06-18T11:45:00.369830Z",
     "iopub.status.idle": "2024-06-18T11:45:00.469623Z",
     "shell.execute_reply": "2024-06-18T11:45:00.468936Z",
     "shell.execute_reply.started": "2024-06-18T11:45:00.371082Z"
    },
    "tags": []
   },
   "outputs": [
    {
     "data": {
      "text/plain": [
       "True"
      ]
     },
     "execution_count": 95,
     "metadata": {},
     "output_type": "execute_result"
    }
   ],
   "source": [
    "from annoy import AnnoyIndex\n",
    "\n",
    "ANN = AnnoyIndex(312, 'angular')\n",
    "ANN.load(f'{version[1:]}.ann')"
   ]
  },
  {
   "cell_type": "markdown",
   "id": "87418241-851b-4ed9-ab34-223d5cff867b",
   "metadata": {},
   "source": [
    "# Cosine"
   ]
  },
  {
   "cell_type": "code",
   "execution_count": 96,
   "id": "807ff586-047c-4c43-b54b-5a412b153e61",
   "metadata": {
    "execution": {
     "iopub.execute_input": "2024-06-18T11:45:00.471983Z",
     "iopub.status.busy": "2024-06-18T11:45:00.470574Z",
     "iopub.status.idle": "2024-06-18T11:45:00.613898Z",
     "shell.execute_reply": "2024-06-18T11:45:00.613109Z",
     "shell.execute_reply.started": "2024-06-18T11:45:00.471946Z"
    },
    "tags": []
   },
   "outputs": [],
   "source": [
    "import torch.nn as nn\n",
    "\n",
    "def cosine_similarity_transform(angular_distance):\n",
    "    return (2-(angular_distance**2))/2\n",
    "\n",
    "cos = nn.CosineSimilarity(dim=1, eps=1e-6)\n",
    "\n",
    "def get_vector_top1(response):\n",
    "    ids, _ = response\n",
    "    id_1 = ids[0]\n",
    "    text = df['message'][id_1]\n",
    "    return get_answer_embs(text)"
   ]
  },
  {
   "cell_type": "code",
   "execution_count": 97,
   "id": "23be3862-9133-4be3-bdb4-109e69a52644",
   "metadata": {
    "execution": {
     "iopub.execute_input": "2024-06-18T11:45:00.615928Z",
     "iopub.status.busy": "2024-06-18T11:45:00.614871Z",
     "iopub.status.idle": "2024-06-18T11:45:04.906988Z",
     "shell.execute_reply": "2024-06-18T11:45:04.906247Z",
     "shell.execute_reply.started": "2024-06-18T11:45:00.615891Z"
    },
    "tags": []
   },
   "outputs": [
    {
     "name": "stdout",
     "output_type": "stream",
     "text": [
      "0.9538758407546579\n"
     ]
    }
   ],
   "source": [
    "total_cosine = 0\n",
    "for i in df_test.index:\n",
    "    message = df_test[\"anchor_one_str\"][i]\n",
    "    vector = get_question_embs(message)[0]\n",
    "    _, distances = ANN.get_nns_by_vector(vector, 1, include_distances=True)\n",
    "    total_cosine += cosine_similarity_transform(distances[0])\n",
    "print(total_cosine / df_test.shape[0])"
   ]
  },
  {
   "cell_type": "code",
   "execution_count": 98,
   "id": "9cc1f18d-c286-488a-867d-adcafc6773ad",
   "metadata": {
    "execution": {
     "iopub.execute_input": "2024-06-18T11:45:04.909242Z",
     "iopub.status.busy": "2024-06-18T11:45:04.908065Z",
     "iopub.status.idle": "2024-06-18T11:45:10.599748Z",
     "shell.execute_reply": "2024-06-18T11:45:10.598900Z",
     "shell.execute_reply.started": "2024-06-18T11:45:04.909206Z"
    },
    "tags": []
   },
   "outputs": [
    {
     "name": "stdout",
     "output_type": "stream",
     "text": [
      "0.6343808770179749\n"
     ]
    }
   ],
   "source": [
    "total_cosine_ans = 0\n",
    "for i in df_test.index:\n",
    "    vector_q = get_question_embs(df_test[\"anchor_one_str\"][i])\n",
    "    vector_a = get_answer_embs(df_test[\"positive\"][i])\n",
    "    total_cosine_ans += cos(vector_q, vector_a)\n",
    "print(float((total_cosine_ans / df_test.shape[0])[0]))"
   ]
  },
  {
   "cell_type": "code",
   "execution_count": 99,
   "id": "0d428b7f-b284-4d78-8410-abd902cc4cd1",
   "metadata": {
    "execution": {
     "iopub.execute_input": "2024-06-18T11:45:10.601903Z",
     "iopub.status.busy": "2024-06-18T11:45:10.601036Z",
     "iopub.status.idle": "2024-06-18T11:45:10.611393Z",
     "shell.execute_reply": "2024-06-18T11:45:10.610759Z",
     "shell.execute_reply.started": "2024-06-18T11:45:10.601863Z"
    },
    "tags": []
   },
   "outputs": [],
   "source": [
    "'''total_cosine_ans_search = 0\n",
    "for i in df_test.index:\n",
    "    vector_q = get_question_embs(df_test[\"anchor_one_str\"][i])[0]\n",
    "    vector_real = get_answer_embs(df_test[\"positive\"][i])\n",
    "    response = ANN.get_nns_by_vector(vector, 1, include_distances=True)\n",
    "    vector_found = get_vector_top1(response)\n",
    "    total_cosine_ans_search += cos(vector_real, vector_found)\n",
    "print(float((total_cosine_ans_search / df_test.shape[0])[0]))''';"
   ]
  },
  {
   "cell_type": "markdown",
   "id": "07a8b63e-c3d7-4d1d-9688-78f60f270675",
   "metadata": {},
   "source": [
    "# Recall@k"
   ]
  },
  {
   "cell_type": "code",
   "execution_count": 100,
   "id": "41d7f78c-1387-4126-a325-870852bb8d2f",
   "metadata": {
    "execution": {
     "iopub.execute_input": "2024-06-18T11:45:10.614165Z",
     "iopub.status.busy": "2024-06-18T11:45:10.613272Z",
     "iopub.status.idle": "2024-06-18T11:45:10.624113Z",
     "shell.execute_reply": "2024-06-18T11:45:10.623513Z",
     "shell.execute_reply.started": "2024-06-18T11:45:10.614131Z"
    },
    "tags": []
   },
   "outputs": [],
   "source": [
    "def find_among_first_k(to_find, response, k):\n",
    "    ids, _ = response\n",
    "    for i in range(len(ids)):\n",
    "        id_cur = ids[i]\n",
    "        text = df['message'][id_cur]\n",
    "        if text == to_find:\n",
    "            return 1\n",
    "    return 0"
   ]
  },
  {
   "cell_type": "code",
   "execution_count": 101,
   "id": "75ab4017-62f1-4399-943e-2b9a7e9c36d8",
   "metadata": {
    "execution": {
     "iopub.execute_input": "2024-06-18T11:45:10.625879Z",
     "iopub.status.busy": "2024-06-18T11:45:10.625129Z",
     "iopub.status.idle": "2024-06-18T11:45:25.360045Z",
     "shell.execute_reply": "2024-06-18T11:45:25.359200Z",
     "shell.execute_reply.started": "2024-06-18T11:45:10.625845Z"
    },
    "tags": []
   },
   "outputs": [
    {
     "name": "stdout",
     "output_type": "stream",
     "text": [
      "Recall@3: 0.2983606557377049\n",
      "Recall@5: 0.33114754098360655\n",
      "Recall@10: 0.37540983606557377\n",
      "Recall@15: 0.4098360655737705\n"
     ]
    }
   ],
   "source": [
    "for k in [3, 5, 10, 15]:\n",
    "    total_recall = 0\n",
    "    for i in df_test.index:\n",
    "        message = df_test[\"anchor_one_str\"][i]\n",
    "        vector = get_question_embs(message)\n",
    "        response = ANN.get_nns_by_vector(vector[0], k, include_distances=True)\n",
    "        total_recall += find_among_first_k(df_test['positive'][i], response, k)\n",
    "    print(f'Recall@{k}:', total_recall / df_test.shape[0])"
   ]
  },
  {
   "cell_type": "markdown",
   "id": "bfc1ce3c-08c6-44c4-a0a4-8bf83d39c4c7",
   "metadata": {},
   "source": [
    "# MRR"
   ]
  },
  {
   "cell_type": "code",
   "execution_count": 12,
   "id": "f42d1db2-d6fb-4423-b19f-67b40d399d35",
   "metadata": {
    "execution": {
     "iopub.execute_input": "2024-04-29T15:52:08.503892Z",
     "iopub.status.busy": "2024-04-29T15:52:08.503382Z",
     "iopub.status.idle": "2024-04-29T15:52:08.520321Z",
     "shell.execute_reply": "2024-04-29T15:52:08.519628Z",
     "shell.execute_reply.started": "2024-04-29T15:52:08.503852Z"
    },
    "tags": []
   },
   "outputs": [],
   "source": [
    "def get_place(to_find, response):\n",
    "    ids, _ = response\n",
    "    for i in range(len(ids)):\n",
    "        id_cur = ids[i]\n",
    "        text = df['message'][id_cur]\n",
    "        if text == to_find:\n",
    "            return i+1\n",
    "    return -1"
   ]
  },
  {
   "cell_type": "code",
   "execution_count": 13,
   "id": "d04ece59-6e8f-4590-8a27-46f2bc8cb498",
   "metadata": {
    "execution": {
     "iopub.execute_input": "2024-04-29T15:52:08.521969Z",
     "iopub.status.busy": "2024-04-29T15:52:08.521434Z",
     "iopub.status.idle": "2024-04-29T15:52:24.738524Z",
     "shell.execute_reply": "2024-04-29T15:52:24.737643Z",
     "shell.execute_reply.started": "2024-04-29T15:52:08.521913Z"
    },
    "tags": []
   },
   "outputs": [
    {
     "name": "stderr",
     "output_type": "stream",
     "text": [
      "100%|██████████| 610/610 [00:16<00:00, 37.67it/s]"
     ]
    },
    {
     "name": "stdout",
     "output_type": "stream",
     "text": [
      "0.2973106644737639\n"
     ]
    },
    {
     "name": "stderr",
     "output_type": "stream",
     "text": [
      "\n"
     ]
    }
   ],
   "source": [
    "from tqdm import tqdm \n",
    "import numpy as np\n",
    "\n",
    "MRR = 0\n",
    "places = []\n",
    "test_size = df_test.shape[0]\n",
    "for i in tqdm(df_test.index):\n",
    "    message = df_test[\"anchor_one_str\"][i]\n",
    "    vector = get_question_embs(message)\n",
    "    response = ANN.get_nns_by_vector(vector, 2934, include_distances=True)\n",
    "    place = get_place(df_test['positive'][i], response)\n",
    "    places.append(place)\n",
    "    MRR += (1 / place)\n",
    "MRR = MRR / test_size\n",
    "print(MRR)"
   ]
  },
  {
   "cell_type": "code",
   "execution_count": null,
   "id": "dbf1e0ec-dc9d-4229-9617-4a42aa71bd73",
   "metadata": {},
   "outputs": [],
   "source": []
  }
 ],
 "metadata": {
  "kernelspec": {
   "display_name": "DataSphere Kernel",
   "language": "python",
   "name": "python3"
  },
  "language_info": {
   "codemirror_mode": {
    "name": "ipython",
    "version": 3
   },
   "file_extension": ".py",
   "mimetype": "text/x-python",
   "name": "python",
   "nbconvert_exporter": "python",
   "pygments_lexer": "ipython3",
   "version": "3.10.12"
  }
 },
 "nbformat": 4,
 "nbformat_minor": 5
}
