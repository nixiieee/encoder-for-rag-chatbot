{
 "cells": [
  {
   "cell_type": "markdown",
   "id": "ee3d4ece-5e94-4782-acbe-0506d4893b1b",
   "metadata": {},
   "source": [
    "# Dataset & dataloader"
   ]
  },
  {
   "cell_type": "code",
   "execution_count": null,
   "id": "72b334c2-6ed2-459b-bd1f-9253a866690d",
   "metadata": {
    "execution": {
     "iopub.execute_input": "2024-04-29T14:58:39.993211Z",
     "iopub.status.busy": "2024-04-29T14:58:39.992202Z",
     "iopub.status.idle": "2024-04-29T14:58:47.961495Z",
     "shell.execute_reply": "2024-04-29T14:58:47.960321Z",
     "shell.execute_reply.started": "2024-04-29T14:58:39.993159Z"
    },
    "tags": []
   },
   "outputs": [],
   "source": [
    "from transformers import AutoTokenizer, AutoModel\n",
    "\n",
    "# tokenizer = AutoTokenizer.from_pretrained(\"ai-forever/sbert_large_mt_nlu_ru\")\n",
    "tokenizer = AutoTokenizer.from_pretrained(\"cointegrated/rubert-tiny2\")"
   ]
  },
  {
   "cell_type": "code",
   "execution_count": 2,
   "id": "16f36622-28da-48b5-b7b6-8382d5bb3f67",
   "metadata": {
    "execution": {
     "iopub.execute_input": "2024-04-29T14:58:47.964170Z",
     "iopub.status.busy": "2024-04-29T14:58:47.963113Z",
     "iopub.status.idle": "2024-04-29T14:58:47.977931Z",
     "shell.execute_reply": "2024-04-29T14:58:47.976584Z",
     "shell.execute_reply.started": "2024-04-29T14:58:47.964110Z"
    },
    "tags": []
   },
   "outputs": [],
   "source": [
    "'''import pickle\n",
    "\n",
    "def write_list(filename, to_store):\n",
    "    with open(filename, 'wb') as fp:\n",
    "        pickle.dump(to_store, fp)\n",
    "\n",
    "def read_list(filename):\n",
    "    with open(filename, 'rb') as fp:\n",
    "        n_list = pickle.load(fp)\n",
    "        return n_list''';"
   ]
  },
  {
   "cell_type": "code",
   "execution_count": 3,
   "id": "c5729ee0-d70d-43fc-af70-de78e758a04f",
   "metadata": {
    "execution": {
     "iopub.execute_input": "2024-04-29T14:58:47.982053Z",
     "iopub.status.busy": "2024-04-29T14:58:47.980686Z",
     "iopub.status.idle": "2024-04-29T14:58:48.003051Z",
     "shell.execute_reply": "2024-04-29T14:58:48.002020Z",
     "shell.execute_reply.started": "2024-04-29T14:58:47.981995Z"
    },
    "tags": []
   },
   "outputs": [],
   "source": [
    "from torch.utils.data import Dataset\n",
    "\n",
    "class TripletDataset(Dataset):\n",
    "\n",
    "    def __init__(self, anchor, positive, negative, score, tokenizer, max_len):\n",
    "        self.anchor = anchor\n",
    "        self.positive = positive\n",
    "        self.negative = negative\n",
    "        self.score = score\n",
    "        self.tokenizer = tokenizer\n",
    "        self.max_len = max_len\n",
    "\n",
    "    def __len__(self):\n",
    "        return len(self.anchor)\n",
    "\n",
    "    def __getitem__(self, item):\n",
    "\n",
    "        anchor = str(self.anchor[item])\n",
    "        # anchor = read_list(f'anchors/{str(self.anchor[item])}.pickle')\n",
    "        # anchor = read_list(f'anchors/{str(self.anchor[item])}.pickle')[-1]\n",
    "        positive = str(self.positive[item])\n",
    "        negative = str(self.negative[item])\n",
    "        score = self.score[item]\n",
    "\n",
    "        anchor_encoding = self.tokenizer(\n",
    "            anchor,\n",
    "            add_special_tokens=True,\n",
    "            max_length=self.max_len,\n",
    "            return_token_type_ids=False,\n",
    "            padding='max_length',\n",
    "            return_attention_mask=True,\n",
    "            return_tensors='pt',\n",
    "            truncation=True,\n",
    "        )\n",
    "\n",
    "        positive_encoding = self.tokenizer(\n",
    "            positive,\n",
    "            add_special_tokens=True,\n",
    "            max_length=self.max_len,\n",
    "            return_token_type_ids=False,\n",
    "            padding='max_length',\n",
    "            return_attention_mask=True,\n",
    "            return_tensors='pt',\n",
    "            truncation=True,\n",
    "        )\n",
    "\n",
    "        negative_encoding = self.tokenizer(\n",
    "            negative,\n",
    "            add_special_tokens=True,\n",
    "            max_length=self.max_len,\n",
    "            return_token_type_ids=False,\n",
    "            padding='max_length',\n",
    "            return_attention_mask=True,\n",
    "            return_tensors='pt',\n",
    "            truncation=True,\n",
    "        )\n",
    "\n",
    "        return {\n",
    "            'anchor': anchor,\n",
    "            'positive': positive,\n",
    "            'negative': negative,\n",
    "            'anchor_ids': anchor_encoding['input_ids'].flatten(),\n",
    "            'anchor_attention_mask': anchor_encoding['attention_mask'].flatten(),\n",
    "            'positive_ids': positive_encoding['input_ids'].flatten(),\n",
    "            'positive_attention_mask': positive_encoding['attention_mask'].flatten(),\n",
    "            'negative_ids': negative_encoding['input_ids'].flatten(),\n",
    "            'negative_attention_mask': negative_encoding['attention_mask'].flatten(),\n",
    "            'score': score,\n",
    "        }"
   ]
  },
  {
   "cell_type": "code",
   "execution_count": 4,
   "id": "97acef3d-ca6a-49dc-ae08-141889c29133",
   "metadata": {
    "execution": {
     "iopub.execute_input": "2024-04-29T14:58:48.005170Z",
     "iopub.status.busy": "2024-04-29T14:58:48.004593Z",
     "iopub.status.idle": "2024-04-29T14:58:48.136872Z",
     "shell.execute_reply": "2024-04-29T14:58:48.135725Z",
     "shell.execute_reply.started": "2024-04-29T14:58:48.005122Z"
    },
    "tags": []
   },
   "outputs": [
    {
     "data": {
      "text/plain": [
       "(8723, 7)"
      ]
     },
     "execution_count": 4,
     "metadata": {},
     "output_type": "execute_result"
    }
   ],
   "source": [
    "import pandas as pd\n",
    "# df = pd.read_csv('data/triplets_cities_with_context_scores.csv')\n",
    "df = pd.read_csv('data/triplets_cities_context_onestr_scores.csv')\n",
    "df.shape"
   ]
  },
  {
   "cell_type": "code",
   "execution_count": 5,
   "id": "3f455b99-8cf1-43f8-ba0a-1e4a5c8e7430",
   "metadata": {
    "execution": {
     "iopub.execute_input": "2024-04-29T14:58:49.514939Z",
     "iopub.status.busy": "2024-04-29T14:58:49.514170Z",
     "iopub.status.idle": "2024-04-29T14:58:49.568251Z",
     "shell.execute_reply": "2024-04-29T14:58:49.567081Z",
     "shell.execute_reply.started": "2024-04-29T14:58:49.514903Z"
    },
    "tags": []
   },
   "outputs": [
    {
     "name": "stdout",
     "output_type": "stream",
     "text": [
      "8,113 training samples\n",
      "  610 validation samples\n"
     ]
    }
   ],
   "source": [
    "from torch.utils.data import random_split\n",
    "import torch\n",
    "\n",
    "ds = TripletDataset(\n",
    "        #anchor=df.anchor.to_numpy(),\n",
    "        anchor=df.anchor_one_str.to_numpy(),\n",
    "        positive=df.positive.to_numpy(),\n",
    "        negative=df.negative.to_numpy(),\n",
    "        score=df.score,\n",
    "        tokenizer=tokenizer,\n",
    "        max_len=2048\n",
    "    )\n",
    "\n",
    "#train_size = int(0.8 * len(ds))\n",
    "#val_size = int(0.1 * len(ds))\n",
    "#test_size = len(ds) - train_size - val_size\n",
    "val_size = int(0.07 * len(ds))\n",
    "train_size = len(ds) - val_size\n",
    "\n",
    "generator = torch.Generator() # fixing random seed \n",
    "generator.manual_seed(0)\n",
    "\n",
    "# train_dataset, val_dataset, test_dataset = random_split(ds, [train_size, val_size, test_size], generator=generator)\n",
    "train_dataset, val_dataset = random_split(ds, [train_size, val_size], generator=generator)\n",
    "\n",
    "print('{:>5,} training samples'.format(train_size))\n",
    "print('{:>5,} validation samples'.format(val_size))\n",
    "#print('{:>5,} testing samples'.format(test_size))"
   ]
  },
  {
   "cell_type": "code",
   "execution_count": 6,
   "id": "4e061ba7-298e-432d-b91b-2070970c0f61",
   "metadata": {
    "execution": {
     "iopub.execute_input": "2024-04-29T14:58:51.368718Z",
     "iopub.status.busy": "2024-04-29T14:58:51.367792Z",
     "iopub.status.idle": "2024-04-29T14:58:51.383659Z",
     "shell.execute_reply": "2024-04-29T14:58:51.382479Z",
     "shell.execute_reply.started": "2024-04-29T14:58:51.368681Z"
    },
    "tags": []
   },
   "outputs": [],
   "source": [
    "from torch.utils.data import DataLoader, RandomSampler, SequentialSampler\n",
    "\n",
    "batch_size = 6\n",
    "\n",
    "train_dataloader = DataLoader(\n",
    "            train_dataset,\n",
    "            sampler = RandomSampler(train_dataset),\n",
    "            batch_size = batch_size\n",
    "        )\n",
    "\n",
    "validation_dataloader = DataLoader(\n",
    "            val_dataset,\n",
    "            sampler = SequentialSampler(val_dataset),\n",
    "            batch_size = batch_size\n",
    "        )"
   ]
  },
  {
   "cell_type": "code",
   "execution_count": null,
   "id": "5008923c-ae0f-46c0-b72f-ef42e5006d8d",
   "metadata": {
    "execution": {
     "iopub.execute_input": "2024-04-29T14:59:13.669701Z",
     "iopub.status.busy": "2024-04-29T14:59:13.668790Z",
     "iopub.status.idle": "2024-04-29T14:59:13.751911Z",
     "shell.execute_reply": "2024-04-29T14:59:13.750819Z",
     "shell.execute_reply.started": "2024-04-29T14:59:13.669662Z"
    },
    "tags": []
   },
   "outputs": [],
   "source": [
    "#indices = list(test_dataset.indices)\n",
    "indices = list(val_dataset.indices)\n",
    "df_test = df.iloc[indices]\n",
    "#df_test.to_csv('data/test_onestr.csv')\n",
    "df_test.to_csv('data/val_onestr.csv')\n",
    "df_test.head()"
   ]
  },
  {
   "cell_type": "markdown",
   "id": "a8d4348e-566e-4bd7-a073-e937923bc382",
   "metadata": {},
   "source": [
    "# Train"
   ]
  },
  {
   "cell_type": "code",
   "execution_count": 10,
   "id": "e835e7e3-cca9-44bc-a3e7-3463b2179674",
   "metadata": {
    "execution": {
     "iopub.execute_input": "2024-04-29T14:59:18.954249Z",
     "iopub.status.busy": "2024-04-29T14:59:18.952990Z",
     "iopub.status.idle": "2024-04-29T14:59:18.967928Z",
     "shell.execute_reply": "2024-04-29T14:59:18.966831Z",
     "shell.execute_reply.started": "2024-04-29T14:59:18.954152Z"
    },
    "tags": []
   },
   "outputs": [],
   "source": [
    "device = \"cuda\" if torch.cuda.is_available() else \"cpu\"\n",
    "# device = \"cuda\""
   ]
  },
  {
   "cell_type": "code",
   "execution_count": 11,
   "id": "ef2060bd-d806-4af0-9bc3-0faac06834bb",
   "metadata": {
    "execution": {
     "iopub.execute_input": "2024-04-29T14:59:20.042375Z",
     "iopub.status.busy": "2024-04-29T14:59:20.041332Z",
     "iopub.status.idle": "2024-04-29T14:59:25.007481Z",
     "shell.execute_reply": "2024-04-29T14:59:25.006242Z",
     "shell.execute_reply.started": "2024-04-29T14:59:20.042321Z"
    },
    "tags": []
   },
   "outputs": [],
   "source": [
    "from transformers import AutoTokenizer, AutoModel \n",
    "\n",
    "# model_anchor = AutoModel.from_pretrained(\"ai-forever/sbert_large_mt_nlu_ru\")\n",
    "# model_pos_neg = AutoModel.from_pretrained(\"ai-forever/sbert_large_mt_nlu_ru\")\n",
    "model_anchor = AutoModel.from_pretrained(\"cointegrated/rubert-tiny2\")\n",
    "model_pos_neg = AutoModel.from_pretrained(\"cointegrated/rubert-tiny2\")\n",
    "\n",
    "model_anchor = model_anchor.to(device)\n",
    "model_pos_neg = model_pos_neg.to(device)"
   ]
  },
  {
   "cell_type": "code",
   "execution_count": null,
   "id": "48162e1e-9d24-4e3a-904e-cf4d85e44a7b",
   "metadata": {
    "execution": {
     "iopub.execute_input": "2024-04-29T14:59:25.010303Z",
     "iopub.status.busy": "2024-04-29T14:59:25.009228Z",
     "iopub.status.idle": "2024-04-29T14:59:25.047590Z",
     "shell.execute_reply": "2024-04-29T14:59:25.046423Z",
     "shell.execute_reply.started": "2024-04-29T14:59:25.010247Z"
    },
    "tags": []
   },
   "outputs": [],
   "source": [
    "from transformers import AdamW\n",
    "\n",
    "optimizer_a = AdamW(model_anchor.parameters(), lr = 2e-5, eps = 1e-8)\n",
    "optimizer_pn = AdamW(model_pos_neg.parameters(), lr = 2e-5, eps = 1e-8)"
   ]
  },
  {
   "cell_type": "code",
   "execution_count": 13,
   "id": "8f39080d-9d52-423f-b8dd-7d3bfae8e267",
   "metadata": {
    "execution": {
     "iopub.execute_input": "2024-04-29T14:59:25.051070Z",
     "iopub.status.busy": "2024-04-29T14:59:25.049602Z",
     "iopub.status.idle": "2024-04-29T14:59:25.065808Z",
     "shell.execute_reply": "2024-04-29T14:59:25.064688Z",
     "shell.execute_reply.started": "2024-04-29T14:59:25.051004Z"
    },
    "tags": []
   },
   "outputs": [],
   "source": [
    "from transformers import get_linear_schedule_with_warmup\n",
    "\n",
    "epochs = 4\n",
    "\n",
    "total_steps = len(train_dataloader) * epochs\n",
    "\n",
    "#scheduler = get_linear_schedule_with_warmup(optimizer,\n",
    "#                                            num_warmup_steps = 0,\n",
    "#                                            num_training_steps = total_steps)"
   ]
  },
  {
   "cell_type": "code",
   "execution_count": 14,
   "id": "7ee32db6-5501-413c-989c-4c125e07be03",
   "metadata": {
    "execution": {
     "iopub.execute_input": "2024-04-29T14:59:25.068115Z",
     "iopub.status.busy": "2024-04-29T14:59:25.067083Z",
     "iopub.status.idle": "2024-04-29T14:59:25.092576Z",
     "shell.execute_reply": "2024-04-29T14:59:25.091435Z",
     "shell.execute_reply.started": "2024-04-29T14:59:25.068062Z"
    },
    "tags": []
   },
   "outputs": [],
   "source": [
    "import torch\n",
    "import torch.nn as nn\n",
    "import torch.nn.functional as F\n",
    "\n",
    "class TripletLoss(nn.Module):\n",
    "    def __init__(self, margin = 1.0):\n",
    "        super(TripletLoss, self).__init__()\n",
    "        self.margin = margin\n",
    "        self.cosine = nn.CosineSimilarity(dim=1, eps=1e-6)\n",
    "\n",
    "    def calc_euclidean(self, x1, x2):\n",
    "        return (x1 - x2).pow(2).sum(1)\n",
    "\n",
    "    def calc_cosine(self,x1,x2):\n",
    "        return self.cosine(x1,x2)\n",
    "\n",
    "    def forward(self, anchor: torch.Tensor, positive: torch.Tensor, negative: torch.Tensor) -> torch.Tensor:\n",
    "        distance_positive = self.calc_euclidean(anchor, positive)\n",
    "        distance_negative_a = self.calc_euclidean(anchor, negative)\n",
    "        distance_negative_b = self.calc_euclidean(positive, negative)\n",
    "        \n",
    "        losses = torch.relu(distance_positive - (distance_negative_a + distance_negative_b)/2.0 + self.margin)\n",
    "\n",
    "        return losses.mean()\n",
    "\n",
    "class SoftmaxLoss(nn.Module):\n",
    "    def __init__(self, alpha=1.0):\n",
    "        super(SoftmaxLoss, self).__init__()\n",
    "        self.alpha=alpha\n",
    "\n",
    "    def forward(self, anchor: torch.Tensor, positive: torch.Tensor, negative: torch.Tensor) -> torch.Tensor:\n",
    "        pos_sim = torch.sum(anchor * positive, dim=1, keepdim=True)\n",
    "        neg_mul = torch.matmul(anchor, negative.t())\n",
    "        neg_sim = torch.logsumexp(neg_mul, dim=1, keepdim=True)\n",
    "\n",
    "        loss = torch.relu(neg_sim - pos_sim + self.alpha)\n",
    "\n",
    "        return loss.mean()\n",
    "    \n",
    "class SoftmaxLossRScore(nn.Module):\n",
    "    def __init__(self, alpha=1.0):\n",
    "        super(SoftmaxLossRScore, self).__init__()\n",
    "        self.alpha=alpha\n",
    "\n",
    "    def forward(self, anchor: torch.Tensor, positive: torch.Tensor, negative: torch.Tensor, r_score) -> torch.Tensor:\n",
    "        pos_sim = torch.sum(anchor * positive, dim=1, keepdim=True)\n",
    "        neg_mul = torch.matmul(anchor, negative.t())\n",
    "        neg_sim = torch.logsumexp(neg_mul, dim=1, keepdim=True)\n",
    "\n",
    "        loss = torch.relu(neg_sim - pos_sim + r_score + self.alpha)\n",
    "\n",
    "        return loss.mean()\n",
    "    \n",
    "class TripletMarginLossRScore(nn.Module):\n",
    "    def __init__(self, margin = 1.0):\n",
    "        super(TripletMarginLossRScore, self).__init__()\n",
    "        self.margin = margin\n",
    "        \n",
    "    def calc_euclidean(self, x1, x2):\n",
    "        return(x1 - x2).pow(2).sum(1)\n",
    "    \n",
    "    def forward(self, anchor: torch.Tensor, positive: torch.Tensor, negative: torch.Tensor, r_score) -> torch.Tensor:\n",
    "        distance_positive = self.calc_euclidean(anchor, positive)\n",
    "        distance_negative = self.calc_euclidean(anchor, negative)\n",
    "        \n",
    "        losses = torch.relu(distance_positive - distance_negative + self.margin + r_score)\n",
    "\n",
    "        return losses.mean()"
   ]
  },
  {
   "cell_type": "code",
   "execution_count": 15,
   "id": "ddf2cc76-f011-4161-8345-08c9556c2e53",
   "metadata": {
    "execution": {
     "iopub.execute_input": "2024-04-29T14:59:26.669891Z",
     "iopub.status.busy": "2024-04-29T14:59:26.668934Z",
     "iopub.status.idle": "2024-04-29T14:59:26.698801Z",
     "shell.execute_reply": "2024-04-29T14:59:26.697572Z",
     "shell.execute_reply.started": "2024-04-29T14:59:26.669847Z"
    },
    "tags": []
   },
   "outputs": [],
   "source": [
    "# loss_fn = nn.TripletMarginLoss(margin=1.0, p=2)\n",
    "# loss_fn = TripletLoss()\n",
    "loss_fn = SoftmaxLoss()\n",
    "# loss_fn = TripletMarginLossRScore(margin=1.0)"
   ]
  },
  {
   "cell_type": "code",
   "execution_count": 16,
   "id": "9000fdf6-10e5-44e3-aa92-ecc506b1b063",
   "metadata": {
    "execution": {
     "iopub.execute_input": "2024-04-29T14:59:27.169575Z",
     "iopub.status.busy": "2024-04-29T14:59:27.168587Z",
     "iopub.status.idle": "2024-04-29T14:59:27.185031Z",
     "shell.execute_reply": "2024-04-29T14:59:27.183684Z",
     "shell.execute_reply.started": "2024-04-29T14:59:27.169531Z"
    },
    "tags": []
   },
   "outputs": [],
   "source": [
    "import time\n",
    "import datetime\n",
    "\n",
    "def format_time(elapsed):\n",
    "    elapsed_rounded = int(round((elapsed)))\n",
    "\n",
    "    return str(datetime.timedelta(seconds=elapsed_rounded))"
   ]
  },
  {
   "cell_type": "code",
   "execution_count": 17,
   "id": "5c20d9ed-eefe-4232-8388-80f01a7e1087",
   "metadata": {
    "execution": {
     "iopub.execute_input": "2024-04-29T14:59:28.138122Z",
     "iopub.status.busy": "2024-04-29T14:59:28.137316Z",
     "iopub.status.idle": "2024-04-29T14:59:28.159700Z",
     "shell.execute_reply": "2024-04-29T14:59:28.158457Z",
     "shell.execute_reply.started": "2024-04-29T14:59:28.138068Z"
    },
    "tags": []
   },
   "outputs": [],
   "source": [
    "def embed_bert_cls(model_output):\n",
    "    embeddings = model_output.last_hidden_state[:, 0, :]\n",
    "    embeddings = torch.nn.functional.normalize(embeddings)\n",
    "    return embeddings"
   ]
  },
  {
   "cell_type": "code",
   "execution_count": 18,
   "id": "4a5eee1d-d749-4a6b-954e-5cc03f60996a",
   "metadata": {
    "execution": {
     "iopub.execute_input": "2024-04-29T14:59:28.993229Z",
     "iopub.status.busy": "2024-04-29T14:59:28.992570Z",
     "iopub.status.idle": "2024-04-29T14:59:29.007224Z",
     "shell.execute_reply": "2024-04-29T14:59:29.006238Z",
     "shell.execute_reply.started": "2024-04-29T14:59:28.993194Z"
    },
    "tags": []
   },
   "outputs": [],
   "source": [
    "torch.cuda.empty_cache()"
   ]
  },
  {
   "cell_type": "code",
   "execution_count": 19,
   "id": "36b42981-8bbe-4ec9-9e0e-0ec911d79d20",
   "metadata": {
    "execution": {
     "iopub.execute_input": "2024-04-29T14:59:29.759077Z",
     "iopub.status.busy": "2024-04-29T14:59:29.758272Z",
     "iopub.status.idle": "2024-04-29T15:48:09.993994Z",
     "shell.execute_reply": "2024-04-29T15:48:09.992679Z",
     "shell.execute_reply.started": "2024-04-29T14:59:29.759022Z"
    },
    "tags": []
   },
   "outputs": [
    {
     "name": "stdout",
     "output_type": "stream",
     "text": [
      "\n",
      "======== Epoch 1 / 4 ========\n",
      "Training...\n",
      "  Batch    40  of  1,353.    Elapsed: 0:00:24.\n",
      "  Loss at step 40 = 2.6389541625976562 \n",
      "\n",
      "  Batch    80  of  1,353.    Elapsed: 0:00:45.\n",
      "  Loss at step 80 = 2.7701315879821777 \n",
      "\n",
      "  Batch   120  of  1,353.    Elapsed: 0:01:06.\n",
      "  Loss at step 120 = 2.6020660400390625 \n",
      "\n",
      "  Batch   160  of  1,353.    Elapsed: 0:01:27.\n",
      "  Loss at step 160 = 2.5876665115356445 \n",
      "\n",
      "  Batch   200  of  1,353.    Elapsed: 0:01:48.\n",
      "  Loss at step 200 = 2.9084606170654297 \n",
      "\n",
      "  Batch   240  of  1,353.    Elapsed: 0:02:09.\n",
      "  Loss at step 240 = 2.808382034301758 \n",
      "\n",
      "  Batch   280  of  1,353.    Elapsed: 0:02:30.\n",
      "  Loss at step 280 = 2.4787988662719727 \n",
      "\n",
      "  Batch   320  of  1,353.    Elapsed: 0:02:51.\n",
      "  Loss at step 320 = 2.5107340812683105 \n",
      "\n",
      "  Batch   360  of  1,353.    Elapsed: 0:03:12.\n",
      "  Loss at step 360 = 2.3588805198669434 \n",
      "\n",
      "  Batch   400  of  1,353.    Elapsed: 0:03:33.\n",
      "  Loss at step 400 = 2.4587924480438232 \n",
      "\n",
      "  Batch   440  of  1,353.    Elapsed: 0:03:54.\n",
      "  Loss at step 440 = 2.5001888275146484 \n",
      "\n",
      "  Batch   480  of  1,353.    Elapsed: 0:04:15.\n",
      "  Loss at step 480 = 2.290339946746826 \n",
      "\n",
      "  Batch   520  of  1,353.    Elapsed: 0:04:36.\n",
      "  Loss at step 520 = 2.686638832092285 \n",
      "\n",
      "  Batch   560  of  1,353.    Elapsed: 0:04:57.\n",
      "  Loss at step 560 = 2.2901673316955566 \n",
      "\n",
      "  Batch   600  of  1,353.    Elapsed: 0:05:18.\n",
      "  Loss at step 600 = 2.2933549880981445 \n",
      "\n",
      "  Batch   640  of  1,353.    Elapsed: 0:05:39.\n",
      "  Loss at step 640 = 2.536515712738037 \n",
      "\n",
      "  Batch   680  of  1,353.    Elapsed: 0:06:00.\n",
      "  Loss at step 680 = 2.741311550140381 \n",
      "\n",
      "  Batch   720  of  1,353.    Elapsed: 0:06:21.\n",
      "  Loss at step 720 = 2.463557243347168 \n",
      "\n",
      "  Batch   760  of  1,353.    Elapsed: 0:06:43.\n",
      "  Loss at step 760 = 2.1998889446258545 \n",
      "\n",
      "  Batch   800  of  1,353.    Elapsed: 0:07:04.\n",
      "  Loss at step 800 = 2.5212955474853516 \n",
      "\n",
      "  Batch   840  of  1,353.    Elapsed: 0:07:25.\n",
      "  Loss at step 840 = 1.943948745727539 \n",
      "\n",
      "  Batch   880  of  1,353.    Elapsed: 0:07:46.\n",
      "  Loss at step 880 = 2.5346384048461914 \n",
      "\n",
      "  Batch   920  of  1,353.    Elapsed: 0:08:07.\n",
      "  Loss at step 920 = 2.3162240982055664 \n",
      "\n",
      "  Batch   960  of  1,353.    Elapsed: 0:08:28.\n",
      "  Loss at step 960 = 2.262356758117676 \n",
      "\n",
      "  Batch 1,000  of  1,353.    Elapsed: 0:08:49.\n",
      "  Loss at step 1000 = 1.7541780471801758 \n",
      "\n",
      "  Batch 1,040  of  1,353.    Elapsed: 0:09:10.\n",
      "  Loss at step 1040 = 2.1701018810272217 \n",
      "\n",
      "  Batch 1,080  of  1,353.    Elapsed: 0:09:31.\n",
      "  Loss at step 1080 = 2.714104413986206 \n",
      "\n",
      "  Batch 1,120  of  1,353.    Elapsed: 0:09:52.\n",
      "  Loss at step 1120 = 2.6380984783172607 \n",
      "\n",
      "  Batch 1,160  of  1,353.    Elapsed: 0:10:13.\n",
      "  Loss at step 1160 = 2.241541862487793 \n",
      "\n",
      "  Batch 1,200  of  1,353.    Elapsed: 0:10:34.\n",
      "  Loss at step 1200 = 2.1361169815063477 \n",
      "\n",
      "  Batch 1,240  of  1,353.    Elapsed: 0:10:55.\n",
      "  Loss at step 1240 = 2.301943302154541 \n",
      "\n",
      "  Batch 1,280  of  1,353.    Elapsed: 0:11:16.\n",
      "  Loss at step 1280 = 1.7003496885299683 \n",
      "\n",
      "  Batch 1,320  of  1,353.    Elapsed: 0:11:37.\n",
      "  Loss at step 1320 = 2.253594398498535 \n",
      "\n",
      "\n",
      "  Average training loss: 2.50\n",
      "  Training epoch took: 0:11:53\n",
      "\n",
      "Running Validation...\n",
      "Validation Loss: 2.3270821571350098\n",
      "  Validation took: 0:00:19\n",
      "\n",
      "======== Epoch 2 / 4 ========\n",
      "Training...\n",
      "  Batch    40  of  1,353.    Elapsed: 0:00:22.\n",
      "  Loss at step 40 = 2.415168285369873 \n",
      "\n",
      "  Batch    80  of  1,353.    Elapsed: 0:00:43.\n",
      "  Loss at step 80 = 2.5882487297058105 \n",
      "\n",
      "  Batch   120  of  1,353.    Elapsed: 0:01:04.\n",
      "  Loss at step 120 = 2.171262502670288 \n",
      "\n",
      "  Batch   160  of  1,353.    Elapsed: 0:01:25.\n",
      "  Loss at step 160 = 2.229353904724121 \n",
      "\n",
      "  Batch   200  of  1,353.    Elapsed: 0:01:46.\n",
      "  Loss at step 200 = 2.6857032775878906 \n",
      "\n",
      "  Batch   240  of  1,353.    Elapsed: 0:02:07.\n",
      "  Loss at step 240 = 1.9985580444335938 \n",
      "\n",
      "  Batch   280  of  1,353.    Elapsed: 0:02:28.\n",
      "  Loss at step 280 = 2.447085380554199 \n",
      "\n",
      "  Batch   320  of  1,353.    Elapsed: 0:02:49.\n",
      "  Loss at step 320 = 2.3333427906036377 \n",
      "\n",
      "  Batch   360  of  1,353.    Elapsed: 0:03:10.\n",
      "  Loss at step 360 = 2.3291540145874023 \n",
      "\n",
      "  Batch   400  of  1,353.    Elapsed: 0:03:31.\n",
      "  Loss at step 400 = 2.071767807006836 \n",
      "\n",
      "  Batch   440  of  1,353.    Elapsed: 0:03:52.\n",
      "  Loss at step 440 = 2.7777843475341797 \n",
      "\n",
      "  Batch   480  of  1,353.    Elapsed: 0:04:13.\n",
      "  Loss at step 480 = 2.1975791454315186 \n",
      "\n",
      "  Batch   520  of  1,353.    Elapsed: 0:04:34.\n",
      "  Loss at step 520 = 2.519542694091797 \n",
      "\n",
      "  Batch   560  of  1,353.    Elapsed: 0:04:55.\n",
      "  Loss at step 560 = 2.3836965560913086 \n",
      "\n",
      "  Batch   600  of  1,353.    Elapsed: 0:05:16.\n",
      "  Loss at step 600 = 2.4530844688415527 \n",
      "\n",
      "  Batch   640  of  1,353.    Elapsed: 0:05:37.\n",
      "  Loss at step 640 = 2.3176589012145996 \n",
      "\n",
      "  Batch   680  of  1,353.    Elapsed: 0:05:58.\n",
      "  Loss at step 680 = 2.272179126739502 \n",
      "\n",
      "  Batch   720  of  1,353.    Elapsed: 0:06:19.\n",
      "  Loss at step 720 = 2.4887473583221436 \n",
      "\n",
      "  Batch   760  of  1,353.    Elapsed: 0:06:40.\n",
      "  Loss at step 760 = 2.4370222091674805 \n",
      "\n",
      "  Batch   800  of  1,353.    Elapsed: 0:07:01.\n",
      "  Loss at step 800 = 2.11262583732605 \n",
      "\n",
      "  Batch   840  of  1,353.    Elapsed: 0:07:22.\n",
      "  Loss at step 840 = 2.1843223571777344 \n",
      "\n",
      "  Batch   880  of  1,353.    Elapsed: 0:07:43.\n",
      "  Loss at step 880 = 2.439099073410034 \n",
      "\n",
      "  Batch   920  of  1,353.    Elapsed: 0:08:04.\n",
      "  Loss at step 920 = 2.5755279064178467 \n",
      "\n",
      "  Batch   960  of  1,353.    Elapsed: 0:08:25.\n",
      "  Loss at step 960 = 2.226675271987915 \n",
      "\n",
      "  Batch 1,000  of  1,353.    Elapsed: 0:08:46.\n",
      "  Loss at step 1000 = 1.4883437156677246 \n",
      "\n",
      "  Batch 1,040  of  1,353.    Elapsed: 0:09:07.\n",
      "  Loss at step 1040 = 2.533353805541992 \n",
      "\n",
      "  Batch 1,080  of  1,353.    Elapsed: 0:09:28.\n",
      "  Loss at step 1080 = 2.493180990219116 \n",
      "\n",
      "  Batch 1,120  of  1,353.    Elapsed: 0:09:49.\n",
      "  Loss at step 1120 = 2.081026554107666 \n",
      "\n",
      "  Batch 1,160  of  1,353.    Elapsed: 0:10:10.\n",
      "  Loss at step 1160 = 2.078481435775757 \n",
      "\n",
      "  Batch 1,200  of  1,353.    Elapsed: 0:10:31.\n",
      "  Loss at step 1200 = 2.2810027599334717 \n",
      "\n",
      "  Batch 1,240  of  1,353.    Elapsed: 0:10:52.\n",
      "  Loss at step 1240 = 2.4574508666992188 \n",
      "\n",
      "  Batch 1,280  of  1,353.    Elapsed: 0:11:13.\n",
      "  Loss at step 1280 = 2.1773815155029297 \n",
      "\n",
      "  Batch 1,320  of  1,353.    Elapsed: 0:11:34.\n",
      "  Loss at step 1320 = 2.2141361236572266 \n",
      "\n",
      "\n",
      "  Average training loss: 2.33\n",
      "  Training epoch took: 0:11:51\n",
      "\n",
      "Running Validation...\n",
      "Validation Loss: 2.2760977745056152\n",
      "  Validation took: 0:00:19\n",
      "\n",
      "======== Epoch 3 / 4 ========\n",
      "Training...\n",
      "  Batch    40  of  1,353.    Elapsed: 0:00:22.\n",
      "  Loss at step 40 = 2.3115007877349854 \n",
      "\n",
      "  Batch    80  of  1,353.    Elapsed: 0:00:43.\n",
      "  Loss at step 80 = 2.312185287475586 \n",
      "\n",
      "  Batch   120  of  1,353.    Elapsed: 0:01:04.\n",
      "  Loss at step 120 = 2.2537038326263428 \n",
      "\n",
      "  Batch   160  of  1,353.    Elapsed: 0:01:25.\n",
      "  Loss at step 160 = 1.9413583278656006 \n",
      "\n",
      "  Batch   200  of  1,353.    Elapsed: 0:01:46.\n",
      "  Loss at step 200 = 2.3014848232269287 \n",
      "\n",
      "  Batch   240  of  1,353.    Elapsed: 0:02:07.\n",
      "  Loss at step 240 = 2.3309552669525146 \n",
      "\n",
      "  Batch   280  of  1,353.    Elapsed: 0:02:28.\n",
      "  Loss at step 280 = 2.1423239707946777 \n",
      "\n",
      "  Batch   320  of  1,353.    Elapsed: 0:02:49.\n",
      "  Loss at step 320 = 2.5947799682617188 \n",
      "\n",
      "  Batch   360  of  1,353.    Elapsed: 0:03:10.\n",
      "  Loss at step 360 = 2.475843667984009 \n",
      "\n",
      "  Batch   400  of  1,353.    Elapsed: 0:03:31.\n",
      "  Loss at step 400 = 2.2567737102508545 \n",
      "\n",
      "  Batch   440  of  1,353.    Elapsed: 0:03:52.\n",
      "  Loss at step 440 = 2.6303563117980957 \n",
      "\n",
      "  Batch   480  of  1,353.    Elapsed: 0:04:13.\n",
      "  Loss at step 480 = 1.9576740264892578 \n",
      "\n",
      "  Batch   520  of  1,353.    Elapsed: 0:04:34.\n",
      "  Loss at step 520 = 2.245155096054077 \n",
      "\n",
      "  Batch   560  of  1,353.    Elapsed: 0:04:55.\n",
      "  Loss at step 560 = 1.9787940979003906 \n",
      "\n",
      "  Batch   600  of  1,353.    Elapsed: 0:05:16.\n",
      "  Loss at step 600 = 2.6425580978393555 \n",
      "\n",
      "  Batch   640  of  1,353.    Elapsed: 0:05:37.\n",
      "  Loss at step 640 = 2.228606700897217 \n",
      "\n",
      "  Batch   680  of  1,353.    Elapsed: 0:05:58.\n",
      "  Loss at step 680 = 2.2306299209594727 \n",
      "\n",
      "  Batch   720  of  1,353.    Elapsed: 0:06:19.\n",
      "  Loss at step 720 = 2.063262701034546 \n",
      "\n",
      "  Batch   760  of  1,353.    Elapsed: 0:06:40.\n",
      "  Loss at step 760 = 2.011228084564209 \n",
      "\n",
      "  Batch   800  of  1,353.    Elapsed: 0:07:01.\n",
      "  Loss at step 800 = 2.3340377807617188 \n",
      "\n",
      "  Batch   840  of  1,353.    Elapsed: 0:07:22.\n",
      "  Loss at step 840 = 2.0956711769104004 \n",
      "\n",
      "  Batch   880  of  1,353.    Elapsed: 0:07:43.\n",
      "  Loss at step 880 = 2.137763500213623 \n",
      "\n",
      "  Batch   920  of  1,353.    Elapsed: 0:08:04.\n",
      "  Loss at step 920 = 2.2258970737457275 \n",
      "\n",
      "  Batch   960  of  1,353.    Elapsed: 0:08:25.\n",
      "  Loss at step 960 = 2.2100839614868164 \n",
      "\n",
      "  Batch 1,000  of  1,353.    Elapsed: 0:08:46.\n",
      "  Loss at step 1000 = 2.283729076385498 \n",
      "\n",
      "  Batch 1,040  of  1,353.    Elapsed: 0:09:07.\n",
      "  Loss at step 1040 = 2.410045623779297 \n",
      "\n",
      "  Batch 1,080  of  1,353.    Elapsed: 0:09:28.\n",
      "  Loss at step 1080 = 1.945173740386963 \n",
      "\n",
      "  Batch 1,120  of  1,353.    Elapsed: 0:09:49.\n",
      "  Loss at step 1120 = 2.263059139251709 \n",
      "\n",
      "  Batch 1,160  of  1,353.    Elapsed: 0:10:10.\n",
      "  Loss at step 1160 = 2.026419162750244 \n",
      "\n",
      "  Batch 1,200  of  1,353.    Elapsed: 0:10:31.\n",
      "  Loss at step 1200 = 2.131254196166992 \n",
      "\n",
      "  Batch 1,240  of  1,353.    Elapsed: 0:10:52.\n",
      "  Loss at step 1240 = 2.298574209213257 \n",
      "\n",
      "  Batch 1,280  of  1,353.    Elapsed: 0:11:13.\n",
      "  Loss at step 1280 = 2.30294132232666 \n",
      "\n",
      "  Batch 1,320  of  1,353.    Elapsed: 0:11:34.\n",
      "  Loss at step 1320 = 2.311375617980957 \n",
      "\n",
      "\n",
      "  Average training loss: 2.26\n",
      "  Training epoch took: 0:11:51\n",
      "\n",
      "Running Validation...\n",
      "Validation Loss: 2.2442519664764404\n",
      "  Validation took: 0:00:19\n",
      "\n",
      "======== Epoch 4 / 4 ========\n",
      "Training...\n",
      "  Batch    40  of  1,353.    Elapsed: 0:00:22.\n",
      "  Loss at step 40 = 2.72607684135437 \n",
      "\n",
      "  Batch    80  of  1,353.    Elapsed: 0:00:43.\n",
      "  Loss at step 80 = 2.2638397216796875 \n",
      "\n",
      "  Batch   120  of  1,353.    Elapsed: 0:01:04.\n",
      "  Loss at step 120 = 2.2588768005371094 \n",
      "\n",
      "  Batch   160  of  1,353.    Elapsed: 0:01:25.\n",
      "  Loss at step 160 = 2.201413631439209 \n",
      "\n",
      "  Batch   200  of  1,353.    Elapsed: 0:01:46.\n",
      "  Loss at step 200 = 2.2408194541931152 \n",
      "\n",
      "  Batch   240  of  1,353.    Elapsed: 0:02:07.\n",
      "  Loss at step 240 = 1.9891347885131836 \n",
      "\n",
      "  Batch   280  of  1,353.    Elapsed: 0:02:28.\n",
      "  Loss at step 280 = 2.2478585243225098 \n",
      "\n",
      "  Batch   320  of  1,353.    Elapsed: 0:02:49.\n",
      "  Loss at step 320 = 2.2472777366638184 \n",
      "\n",
      "  Batch   360  of  1,353.    Elapsed: 0:03:10.\n",
      "  Loss at step 360 = 2.3446967601776123 \n",
      "\n",
      "  Batch   400  of  1,353.    Elapsed: 0:03:31.\n",
      "  Loss at step 400 = 2.472958564758301 \n",
      "\n",
      "  Batch   440  of  1,353.    Elapsed: 0:03:52.\n",
      "  Loss at step 440 = 2.108928680419922 \n",
      "\n",
      "  Batch   480  of  1,353.    Elapsed: 0:04:13.\n",
      "  Loss at step 480 = 2.2501020431518555 \n",
      "\n",
      "  Batch   520  of  1,353.    Elapsed: 0:04:34.\n",
      "  Loss at step 520 = 2.072897434234619 \n",
      "\n",
      "  Batch   560  of  1,353.    Elapsed: 0:04:55.\n",
      "  Loss at step 560 = 2.2719578742980957 \n",
      "\n",
      "  Batch   600  of  1,353.    Elapsed: 0:05:16.\n",
      "  Loss at step 600 = 2.2529191970825195 \n",
      "\n",
      "  Batch   640  of  1,353.    Elapsed: 0:05:37.\n",
      "  Loss at step 640 = 2.5806589126586914 \n",
      "\n",
      "  Batch   680  of  1,353.    Elapsed: 0:05:58.\n",
      "  Loss at step 680 = 1.9696252346038818 \n",
      "\n",
      "  Batch   720  of  1,353.    Elapsed: 0:06:19.\n",
      "  Loss at step 720 = 1.9065968990325928 \n",
      "\n",
      "  Batch   760  of  1,353.    Elapsed: 0:06:40.\n",
      "  Loss at step 760 = 2.074246883392334 \n",
      "\n",
      "  Batch   800  of  1,353.    Elapsed: 0:07:01.\n",
      "  Loss at step 800 = 1.9840784072875977 \n",
      "\n",
      "  Batch   840  of  1,353.    Elapsed: 0:07:22.\n",
      "  Loss at step 840 = 2.0681467056274414 \n",
      "\n",
      "  Batch   880  of  1,353.    Elapsed: 0:07:43.\n",
      "  Loss at step 880 = 2.144155740737915 \n",
      "\n",
      "  Batch   920  of  1,353.    Elapsed: 0:08:04.\n",
      "  Loss at step 920 = 2.028183698654175 \n",
      "\n",
      "  Batch   960  of  1,353.    Elapsed: 0:08:25.\n",
      "  Loss at step 960 = 2.295888662338257 \n",
      "\n",
      "  Batch 1,000  of  1,353.    Elapsed: 0:08:46.\n",
      "  Loss at step 1000 = 2.405937671661377 \n",
      "\n",
      "  Batch 1,040  of  1,353.    Elapsed: 0:09:07.\n",
      "  Loss at step 1040 = 2.0154502391815186 \n",
      "\n",
      "  Batch 1,080  of  1,353.    Elapsed: 0:09:28.\n",
      "  Loss at step 1080 = 1.9590415954589844 \n",
      "\n",
      "  Batch 1,120  of  1,353.    Elapsed: 0:09:49.\n",
      "  Loss at step 1120 = 1.6192231178283691 \n",
      "\n",
      "  Batch 1,160  of  1,353.    Elapsed: 0:10:10.\n",
      "  Loss at step 1160 = 2.254464626312256 \n",
      "\n",
      "  Batch 1,200  of  1,353.    Elapsed: 0:10:31.\n",
      "  Loss at step 1200 = 1.972015380859375 \n",
      "\n",
      "  Batch 1,240  of  1,353.    Elapsed: 0:10:52.\n",
      "  Loss at step 1240 = 2.4887802600860596 \n",
      "\n",
      "  Batch 1,280  of  1,353.    Elapsed: 0:11:13.\n",
      "  Loss at step 1280 = 2.276047706604004 \n",
      "\n",
      "  Batch 1,320  of  1,353.    Elapsed: 0:11:34.\n",
      "  Loss at step 1320 = 2.3525264263153076 \n",
      "\n",
      "\n",
      "  Average training loss: 2.22\n",
      "  Training epoch took: 0:11:50\n",
      "\n",
      "Running Validation...\n",
      "Validation Loss: 2.232621908187866\n",
      "  Validation took: 0:00:19\n",
      "\n",
      "Training complete!\n",
      "Total training took 0:48:40 (h:mm:ss)\n"
     ]
    }
   ],
   "source": [
    "import random\n",
    "import numpy as np\n",
    "seed_val = 42\n",
    "\n",
    "random.seed(seed_val)\n",
    "np.random.seed(seed_val)\n",
    "torch.manual_seed(seed_val)\n",
    "torch.cuda.manual_seed_all(seed_val)\n",
    "\n",
    "training_stats = []\n",
    "\n",
    "total_t0 = time.time()\n",
    "\n",
    "for epoch_i in range(epochs):\n",
    "    print(\"\")\n",
    "    print('======== Epoch {:} / {:} ========'.format(epoch_i + 1, epochs))\n",
    "    print('Training...')\n",
    "\n",
    "    t0 = time.time()\n",
    "\n",
    "    total_train_loss = 0.0\n",
    "    train_losses = []\n",
    "\n",
    "    model_anchor.train()\n",
    "    model_pos_neg.train()\n",
    "\n",
    "    for step, batch in enumerate(train_dataloader):\n",
    "        optimizer_a.zero_grad()\n",
    "        optimizer_pn.zero_grad()\n",
    "\n",
    "        # Anchor\n",
    "        anchor_ids = batch[\"anchor_ids\"].to(device)\n",
    "        anchor_attention_mask = batch[\"anchor_attention_mask\"].to(device)\n",
    "        anchor_outputs = model_anchor(\n",
    "            input_ids=anchor_ids,\n",
    "            attention_mask=anchor_attention_mask\n",
    "        )\n",
    "        anchor_outputs = embed_bert_cls(anchor_outputs)\n",
    "        \n",
    "        # Positive\n",
    "        positive_ids = batch[\"positive_ids\"].to(device)\n",
    "        positive_attention_mask = batch[\"positive_attention_mask\"].to(device)\n",
    "\n",
    "        positive_outputs = model_pos_neg(\n",
    "            input_ids=positive_ids,\n",
    "            attention_mask=positive_attention_mask\n",
    "        )\n",
    "        positive_outputs = embed_bert_cls(positive_outputs)\n",
    "        \n",
    "        # Negative\n",
    "        negative_ids = batch[\"negative_ids\"].to(device)\n",
    "        negative_attention_mask = batch[\"negative_attention_mask\"].to(device)\n",
    "\n",
    "        negative_outputs = model_pos_neg(\n",
    "            input_ids=negative_ids,\n",
    "            attention_mask=negative_attention_mask\n",
    "        )\n",
    "        negative_outputs = embed_bert_cls(negative_outputs)\n",
    "        \n",
    "        # Loss\n",
    "        # r_score = batch[\"score\"].to(device)\n",
    "        # loss = loss_fn(anchor_outputs, positive_outputs, negative_outputs, r_score)\n",
    "        loss = loss_fn(anchor_outputs, positive_outputs, negative_outputs)\n",
    "        total_train_loss += loss.detach()\n",
    "        loss.backward()\n",
    "        \n",
    "        train_losses.append(float(loss))\n",
    "        \n",
    "        nn.utils.clip_grad_norm_(model_anchor.parameters(), 1.0)\n",
    "        nn.utils.clip_grad_norm_(model_pos_neg.parameters(), 1.0)\n",
    "\n",
    "        optimizer_a.step()\n",
    "        optimizer_pn.step()\n",
    "\n",
    "        if step % 40 == 0 and not step == 0:\n",
    "            elapsed = format_time(time.time() - t0)\n",
    "            print('  Batch {:>5,}  of  {:>5,}.    Elapsed: {:}.'.format(step, len(train_dataloader), elapsed))\n",
    "            print(f\"  Loss at step {step} = {loss} \\n\")\n",
    "\n",
    "    avg_train_loss = total_train_loss / len(train_dataloader)\n",
    "\n",
    "    training_time = format_time(time.time() - t0)\n",
    "\n",
    "    print(\"\")\n",
    "    print(\"  Average training loss: {0:.2f}\".format(avg_train_loss))\n",
    "    print(\"  Training epoch took: {:}\".format(training_time))\n",
    "\n",
    "    print(\"\")\n",
    "    print(\"Running Validation...\")\n",
    "    t0 = time.time()\n",
    "    \n",
    "    model_anchor.eval()\n",
    "    model_pos_neg.eval()\n",
    "    \n",
    "    with torch.no_grad():\n",
    "        total_val_loss = 0.0\n",
    "        val_losses = []\n",
    "        for step, batch in enumerate(validation_dataloader):\n",
    "            # Anchor\n",
    "            anchor_ids = batch[\"anchor_ids\"].to(device)\n",
    "            anchor_attention_mask = batch[\"anchor_attention_mask\"].to(device)\n",
    "            anchor_outputs = model_anchor(\n",
    "                input_ids=anchor_ids,\n",
    "                attention_mask=anchor_attention_mask\n",
    "            )\n",
    "            anchor_outputs = embed_bert_cls(anchor_outputs)\n",
    "            \n",
    "            # Positive\n",
    "            positive_ids = batch[\"positive_ids\"].to(device)\n",
    "            positive_attention_mask = batch[\"positive_attention_mask\"].to(device)\n",
    "            positive_outputs = model_pos_neg(\n",
    "                input_ids=positive_ids,\n",
    "                attention_mask=positive_attention_mask\n",
    "            )\n",
    "            positive_outputs = embed_bert_cls(positive_outputs)\n",
    "            \n",
    "            # Negative\n",
    "            negative_ids = batch[\"negative_ids\"].to(device)\n",
    "            negative_attention_mask = batch[\"negative_attention_mask\"].to(device)\n",
    "            negative_outputs = model_pos_neg(\n",
    "                input_ids=negative_ids,\n",
    "                attention_mask=negative_attention_mask\n",
    "            )\n",
    "            negative_outputs = embed_bert_cls(negative_outputs)\n",
    "            \n",
    "            # Loss\n",
    "            # r_score = batch[\"score\"].to(device)\n",
    "            # loss = loss_fn(anchor_outputs, positive_outputs, negative_outputs, r_score)\n",
    "            loss = loss_fn(anchor_outputs, positive_outputs, negative_outputs)\n",
    "            total_val_loss += loss.detach()\n",
    "            val_losses.append(float(loss))\n",
    "            \n",
    "        avg_val_loss = total_val_loss / len(validation_dataloader)\n",
    "        validation_time = format_time(time.time() - t0)\n",
    "        \n",
    "        print(f\"Validation Loss: {avg_val_loss}\")\n",
    "        print(\"  Validation took: {:}\".format(validation_time))\n",
    "\n",
    "        \n",
    "    training_stats.append(\n",
    "        {\n",
    "            'epoch': epoch_i + 1,\n",
    "            'Training Loss': float(avg_train_loss),\n",
    "            'Valid. Loss': float(avg_val_loss),\n",
    "            'List of train losses': train_losses,\n",
    "            'List of val losses': val_losses,\n",
    "            'Training Time': training_time,\n",
    "            'Validation Time': validation_time\n",
    "        }\n",
    "    )\n",
    "\n",
    "print(\"\")\n",
    "print(\"Training complete!\")\n",
    "\n",
    "print(\"Total training took {:} (h:mm:ss)\".format(format_time(time.time()-total_t0)))"
   ]
  },
  {
   "cell_type": "code",
   "execution_count": 20,
   "id": "49adad20-df8e-400b-aaa0-65ca6aa07f56",
   "metadata": {
    "execution": {
     "iopub.execute_input": "2024-04-29T15:48:26.183327Z",
     "iopub.status.busy": "2024-04-29T15:48:26.182115Z",
     "iopub.status.idle": "2024-04-29T15:48:26.201169Z",
     "shell.execute_reply": "2024-04-29T15:48:26.200141Z",
     "shell.execute_reply.started": "2024-04-29T15:48:26.183269Z"
    },
    "tags": []
   },
   "outputs": [],
   "source": [
    "version = '_tiny2_context_softmax_final'"
   ]
  },
  {
   "cell_type": "code",
   "execution_count": 21,
   "id": "eb23a9a7-9658-4f16-bd36-26b94337dd20",
   "metadata": {
    "execution": {
     "iopub.execute_input": "2024-04-29T15:48:26.628558Z",
     "iopub.status.busy": "2024-04-29T15:48:26.627671Z",
     "iopub.status.idle": "2024-04-29T15:48:28.383446Z",
     "shell.execute_reply": "2024-04-29T15:48:28.382309Z",
     "shell.execute_reply.started": "2024-04-29T15:48:26.628511Z"
    },
    "tags": []
   },
   "outputs": [],
   "source": [
    "torch.save(model_anchor.state_dict(), f\"models/model_anchor{version}.bin\")\n",
    "torch.save(model_pos_neg.state_dict(), f\"models/model_pos_neg{version}.bin\")"
   ]
  },
  {
   "cell_type": "code",
   "execution_count": 22,
   "id": "ea443e8b-2b18-47ae-a1c9-b2b4e2d24a74",
   "metadata": {
    "execution": {
     "iopub.execute_input": "2024-04-29T15:48:28.385588Z",
     "iopub.status.busy": "2024-04-29T15:48:28.385026Z",
     "iopub.status.idle": "2024-04-29T15:48:28.412237Z",
     "shell.execute_reply": "2024-04-29T15:48:28.411186Z",
     "shell.execute_reply.started": "2024-04-29T15:48:28.385555Z"
    },
    "tags": []
   },
   "outputs": [],
   "source": [
    "import json\n",
    "with open(f'log/training_stats{version}.json', 'w') as fout:\n",
    "    json.dump(training_stats, fout)"
   ]
  },
  {
   "cell_type": "code",
   "execution_count": 23,
   "id": "516f2293-83c5-450e-a601-00fc6fe97c87",
   "metadata": {
    "execution": {
     "iopub.execute_input": "2024-04-29T15:48:28.414989Z",
     "iopub.status.busy": "2024-04-29T15:48:28.414001Z",
     "iopub.status.idle": "2024-04-29T15:48:28.428256Z",
     "shell.execute_reply": "2024-04-29T15:48:28.427161Z",
     "shell.execute_reply.started": "2024-04-29T15:48:28.414934Z"
    },
    "tags": []
   },
   "outputs": [],
   "source": [
    "all_train_losses = []\n",
    "all_val_losses = []\n",
    "for i in range(epochs):\n",
    "    all_train_losses += training_stats[i]['List of train losses']\n",
    "    all_val_losses += training_stats[i]['List of val losses']"
   ]
  },
  {
   "cell_type": "code",
   "execution_count": 24,
   "id": "b5c9026d-2205-4312-a5a4-383cf070f20d",
   "metadata": {
    "execution": {
     "iopub.execute_input": "2024-04-29T15:48:28.432122Z",
     "iopub.status.busy": "2024-04-29T15:48:28.431145Z",
     "iopub.status.idle": "2024-04-29T15:48:28.761498Z",
     "shell.execute_reply": "2024-04-29T15:48:28.760333Z",
     "shell.execute_reply.started": "2024-04-29T15:48:28.432072Z"
    },
    "tags": []
   },
   "outputs": [
    {
     "data": {
      "image/png": "[encoded data removed]",
      "text/plain": [
       "<Figure size 432x288 with 1 Axes>"
      ]
     },
     "metadata": {
      "needs_background": "light"
     },
     "output_type": "display_data"
    }
   ],
   "source": [
    "import matplotlib.pyplot as plt\n",
    "\n",
    "xs = [x for x in range(len(all_train_losses))]\n",
    "plt.plot(xs, all_train_losses)\n",
    "plt.show()\n",
    "plt.close()"
   ]
  },
  {
   "cell_type": "code",
   "execution_count": 25,
   "id": "51cd1c65-9df3-4f0a-81a1-0e2fe775a2eb",
   "metadata": {
    "execution": {
     "iopub.execute_input": "2024-04-29T15:48:29.813281Z",
     "iopub.status.busy": "2024-04-29T15:48:29.812320Z",
     "iopub.status.idle": "2024-04-29T15:48:30.068748Z",
     "shell.execute_reply": "2024-04-29T15:48:30.067618Z",
     "shell.execute_reply.started": "2024-04-29T15:48:29.813228Z"
    },
    "tags": []
   },
   "outputs": [
    {
     "data": {
      "image/png": "[encoded data removed]",
      "text/plain": [
       "<Figure size 432x288 with 1 Axes>"
      ]
     },
     "metadata": {
      "needs_background": "light"
     },
     "output_type": "display_data"
    }
   ],
   "source": [
    "import matplotlib.pyplot as plt\n",
    "\n",
    "xs = [x for x in range(len(all_val_losses))]\n",
    "plt.plot(xs, all_val_losses)\n",
    "plt.show()\n",
    "plt.close()"
   ]
  },
  {
   "cell_type": "code",
   "execution_count": 26,
   "id": "c6ff6bbc-d52d-4199-b52e-9bc58d6a4b62",
   "metadata": {
    "execution": {
     "iopub.execute_input": "2024-04-29T15:48:30.375869Z",
     "iopub.status.busy": "2024-04-29T15:48:30.375131Z",
     "iopub.status.idle": "2024-04-29T15:48:30.587535Z",
     "shell.execute_reply": "2024-04-29T15:48:30.586380Z",
     "shell.execute_reply.started": "2024-04-29T15:48:30.375815Z"
    },
    "tags": []
   },
   "outputs": [
    {
     "data": {
      "image/png": "[encoded data removed]",
      "text/plain": [
       "<Figure size 432x288 with 1 Axes>"
      ]
     },
     "metadata": {
      "needs_background": "light"
     },
     "output_type": "display_data"
    }
   ],
   "source": [
    "ys = [training_stats[i]['Training Loss'] for i in range(epochs)]\n",
    "xs = [i for i in range(epochs)]\n",
    "plt.plot(xs, ys)\n",
    "plt.show()\n",
    "plt.close()"
   ]
  },
  {
   "cell_type": "code",
   "execution_count": 27,
   "id": "419dc5c4-6947-4ae9-9b79-a94b3be8c1fa",
   "metadata": {
    "execution": {
     "iopub.execute_input": "2024-04-29T15:48:30.854417Z",
     "iopub.status.busy": "2024-04-29T15:48:30.853687Z",
     "iopub.status.idle": "2024-04-29T15:48:31.060739Z",
     "shell.execute_reply": "2024-04-29T15:48:31.059594Z",
     "shell.execute_reply.started": "2024-04-29T15:48:30.854369Z"
    },
    "tags": []
   },
   "outputs": [
    {
     "data": {
      "image/png": "[encoded data removed]",
      "text/plain": [
       "<Figure size 432x288 with 1 Axes>"
      ]
     },
     "metadata": {
      "needs_background": "light"
     },
     "output_type": "display_data"
    }
   ],
   "source": [
    "ys = [training_stats[i]['Valid. Loss'] for i in range(epochs)]\n",
    "xs = [i for i in range(epochs)]\n",
    "plt.plot(xs, ys)\n",
    "plt.show()\n",
    "plt.close()"
   ]
  },
  {
   "cell_type": "code",
   "execution_count": 28,
   "id": "1a859eea-1733-49b7-999b-eddc8240732f",
   "metadata": {
    "execution": {
     "iopub.execute_input": "2024-04-29T15:48:31.569102Z",
     "iopub.status.busy": "2024-04-29T15:48:31.568171Z",
     "iopub.status.idle": "2024-04-29T15:48:31.834286Z",
     "shell.execute_reply": "2024-04-29T15:48:31.833044Z",
     "shell.execute_reply.started": "2024-04-29T15:48:31.569047Z"
    },
    "tags": []
   },
   "outputs": [
    {
     "data": {
      "text/plain": [
       "<All keys matched successfully>"
      ]
     },
     "execution_count": 28,
     "metadata": {},
     "output_type": "execute_result"
    }
   ],
   "source": [
    "model_test = AutoModel.from_pretrained(\"cointegrated/rubert-tiny2\")\n",
    "model_test.load_state_dict(torch.load(f'models/model_anchor{version}.bin'))"
   ]
  },
  {
   "cell_type": "code",
   "execution_count": 29,
   "id": "989eca18-39af-468a-97ee-3b3fb3fd765c",
   "metadata": {
    "execution": {
     "iopub.execute_input": "2024-04-29T15:48:33.027709Z",
     "iopub.status.busy": "2024-04-29T15:48:33.026820Z",
     "iopub.status.idle": "2024-04-29T15:48:33.162785Z",
     "shell.execute_reply": "2024-04-29T15:48:33.161637Z",
     "shell.execute_reply.started": "2024-04-29T15:48:33.027661Z"
    },
    "tags": []
   },
   "outputs": [
    {
     "data": {
      "text/plain": [
       "<All keys matched successfully>"
      ]
     },
     "execution_count": 29,
     "metadata": {},
     "output_type": "execute_result"
    }
   ],
   "source": [
    "model_test.load_state_dict(torch.load(f'models/model_pos_neg{version}.bin'))"
   ]
  },
  {
   "cell_type": "code",
   "execution_count": null,
   "id": "46ad6f6a-cff8-4f71-9d4e-3516f5f08b90",
   "metadata": {},
   "outputs": [],
   "source": []
  }
 ],
 "metadata": {
  "kernelspec": {
   "display_name": "DataSphere Kernel",
   "language": "python",
   "name": "python3"
  },
  "language_info": {
   "codemirror_mode": {
    "name": "ipython",
    "version": 3
   },
   "file_extension": ".py",
   "mimetype": "text/x-python",
   "name": "python",
   "nbconvert_exporter": "python",
   "pygments_lexer": "ipython3",
   "version": "3.10.12"
  }
 },
 "nbformat": 4,
 "nbformat_minor": 5
}
