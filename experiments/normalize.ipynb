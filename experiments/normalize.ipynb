{
 "cells": [
  {
   "cell_type": "code",
   "execution_count": 1,
   "id": "12b0ffcf-17bd-488f-a14f-2dcf961053d2",
   "metadata": {
    "execution": {
     "iopub.execute_input": "2024-04-19T12:42:21.655695Z",
     "iopub.status.busy": "2024-04-19T12:42:21.655109Z",
     "iopub.status.idle": "2024-04-19T12:42:21.711408Z",
     "shell.execute_reply": "2024-04-19T12:42:21.710630Z",
     "shell.execute_reply.started": "2024-04-19T12:42:21.655644Z"
    },
    "tags": []
   },
   "outputs": [],
   "source": [
    "import pandas as pd\n",
    "from tqdm import tqdm\n",
    "import numpy as np"
   ]
  },
  {
   "cell_type": "markdown",
   "id": "2be593cb-906c-41f7-8c55-e71f80fe1ea6",
   "metadata": {
    "jp-MarkdownHeadingCollapsed": true,
    "tags": []
   },
   "source": [
    "# Просмотр"
   ]
  },
  {
   "cell_type": "code",
   "execution_count": 60,
   "id": "fb89e9d7-92a2-408c-9af9-f909b7989a04",
   "metadata": {
    "execution": {
     "iopub.execute_input": "2024-02-24T10:56:41.182119Z",
     "iopub.status.busy": "2024-02-24T10:56:41.181282Z",
     "iopub.status.idle": "2024-02-24T10:56:43.394274Z",
     "shell.execute_reply": "2024-02-24T10:56:43.393638Z",
     "shell.execute_reply.started": "2024-02-24T10:56:41.182038Z"
    },
    "tags": []
   },
   "outputs": [],
   "source": [
    "data = pd.read_excel('data/initial.xlsx')"
   ]
  },
  {
   "cell_type": "markdown",
   "id": "e5fcb0aa-0e44-4973-8dab-6d7af0d33a52",
   "metadata": {},
   "source": [
    "Посмотрим максимальную и минимальную длины сообщений"
   ]
  },
  {
   "cell_type": "code",
   "execution_count": 52,
   "id": "969735b4-96f8-4609-b7bd-3c9344d23c8f",
   "metadata": {
    "execution": {
     "iopub.execute_input": "2024-02-24T10:53:08.522880Z",
     "iopub.status.busy": "2024-02-24T10:53:08.522156Z",
     "iopub.status.idle": "2024-02-24T10:53:08.822718Z",
     "shell.execute_reply": "2024-02-24T10:53:08.822030Z",
     "shell.execute_reply.started": "2024-02-24T10:53:08.522839Z"
    },
    "tags": []
   },
   "outputs": [
    {
     "name": "stdout",
     "output_type": "stream",
     "text": [
      "943 1\n"
     ]
    }
   ],
   "source": [
    "max_len = 0\n",
    "min_len = 100000\n",
    "for i in data.index:\n",
    "    if type(data['message'][i]) == str:\n",
    "        max_len = max(max_len, len(data['message'][i]))\n",
    "        min_len = min(min_len, len(data['message'][i]))\n",
    "print(max_len, min_len)"
   ]
  },
  {
   "cell_type": "markdown",
   "id": "5995f593-bba1-4794-b4e1-6f8148a616e3",
   "metadata": {
    "jp-MarkdownHeadingCollapsed": true,
    "tags": []
   },
   "source": [
    "# Исправление орфографии и пунктуации"
   ]
  },
  {
   "cell_type": "code",
   "execution_count": null,
   "id": "6e706e8b-e92a-4c04-a460-cbad09c63767",
   "metadata": {
    "execution": {
     "iopub.execute_input": "2024-02-24T10:34:42.607431Z",
     "iopub.status.busy": "2024-02-24T10:34:42.606582Z",
     "iopub.status.idle": "2024-02-24T10:37:29.832051Z",
     "shell.execute_reply": "2024-02-24T10:37:29.831435Z",
     "shell.execute_reply.started": "2024-02-24T10:34:42.607384Z"
    }
   },
   "outputs": [],
   "source": [
    "# Импортируем библиотеки\n",
    "from transformers import AutoModelForSeq2SeqLM, T5TokenizerFast\n",
    "\n",
    "# Зададим название выбронной модели из хаба\n",
    "MODEL_NAME = 'UrukHan/t5-russian-spell'\n",
    "MAX_INPUT = 256\n",
    "\n",
    "# Загрузка модели и токенизатора\n",
    "tokenizer = T5TokenizerFast.from_pretrained(MODEL_NAME)\n",
    "model = AutoModelForSeq2SeqLM.from_pretrained(MODEL_NAME)"
   ]
  },
  {
   "cell_type": "code",
   "execution_count": 87,
   "id": "b96968d8-5893-4efd-9e7a-0f247464085c",
   "metadata": {
    "execution": {
     "iopub.execute_input": "2024-02-24T11:10:54.850234Z",
     "iopub.status.busy": "2024-02-24T11:10:54.849578Z",
     "iopub.status.idle": "2024-02-24T11:10:55.060990Z",
     "shell.execute_reply": "2024-02-24T11:10:55.060316Z",
     "shell.execute_reply.started": "2024-02-24T11:10:54.850193Z"
    },
    "tags": []
   },
   "outputs": [
    {
     "name": "stderr",
     "output_type": "stream",
     "text": [
      "/home/jupyter/.local/lib/python3.8/site-packages/transformers/generation/utils.py:1369: UserWarning: Using `max_length`'s default (256) to control the generation length. This behaviour is deprecated and will be removed from the config in v5 of Transformers -- we recommend using `max_new_tokens` to control the maximum length of the generation.\n",
      "  warnings.warn(\n"
     ]
    },
    {
     "data": {
      "text/plain": [
       "['Сегодня хорош день.']"
      ]
     },
     "execution_count": 87,
     "metadata": {},
     "output_type": "execute_result"
    }
   ],
   "source": [
    "input_sequences = ['сеглдыя хорош ден']   # или можно использовать одиночные фразы:  input_sequences = 'сеглдыя хорош ден'\n",
    "\n",
    "task_prefix = \"Spell correct: \"\n",
    "if type(input_sequences) != list: input_sequences = [input_sequences]\n",
    "encoded = tokenizer(\n",
    "    [task_prefix + sequence for sequence in input_sequences],\n",
    "    padding=\"longest\",\n",
    "    max_length=943,\n",
    "    truncation=True,\n",
    "    return_tensors=\"pt\",\n",
    ")['input_ids']\n",
    "\n",
    "predicts = model.generate(encoded)\n",
    "\n",
    "tokenizer.batch_decode(predicts, skip_special_tokens=True)"
   ]
  },
  {
   "cell_type": "code",
   "execution_count": 80,
   "id": "f0dcc05a-aaed-415c-9631-523d22d9c46f",
   "metadata": {
    "execution": {
     "iopub.execute_input": "2024-02-24T11:06:07.058367Z",
     "iopub.status.busy": "2024-02-24T11:06:07.057574Z",
     "iopub.status.idle": "2024-02-24T11:06:07.073854Z",
     "shell.execute_reply": "2024-02-24T11:06:07.073132Z",
     "shell.execute_reply.started": "2024-02-24T11:06:07.058335Z"
    },
    "tags": []
   },
   "outputs": [],
   "source": [
    "data_grammar_fix = data.copy(deep=True)"
   ]
  },
  {
   "cell_type": "code",
   "execution_count": null,
   "id": "eb6bd07a-4d9d-47f7-aab7-6826e4d154b7",
   "metadata": {
    "execution": {
     "iopub.execute_input": "2024-02-24T11:28:55.095602Z",
     "iopub.status.busy": "2024-02-24T11:28:55.094950Z",
     "iopub.status.idle": "2024-02-24T12:31:07.239064Z"
    },
    "tags": []
   },
   "outputs": [
    {
     "name": "stderr",
     "output_type": "stream",
     "text": [
      "  0%|          | 1/21360 [00:00<41:31,  8.57it/s]"
     ]
    },
    {
     "name": "stdout",
     "output_type": "stream",
     "text": [
      "2000 samples done!\n"
     ]
    },
    {
     "name": "stderr",
     "output_type": "stream",
     "text": [
      "  5%|▍         | 1002/21360 [02:51<42:52,  7.92it/s] "
     ]
    },
    {
     "name": "stdout",
     "output_type": "stream",
     "text": [
      "3000 samples done!\n"
     ]
    },
    {
     "name": "stderr",
     "output_type": "stream",
     "text": [
      "  9%|▉         | 2001/21360 [05:39<59:49,  5.39it/s]  "
     ]
    },
    {
     "name": "stdout",
     "output_type": "stream",
     "text": [
      "4000 samples done!\n"
     ]
    },
    {
     "name": "stderr",
     "output_type": "stream",
     "text": [
      " 14%|█▍        | 3001/21360 [08:41<51:39,  5.92it/s]  "
     ]
    },
    {
     "name": "stdout",
     "output_type": "stream",
     "text": [
      "5000 samples done!\n"
     ]
    },
    {
     "name": "stderr",
     "output_type": "stream",
     "text": [
      " 19%|█▊        | 4001/21360 [11:56<1:09:49,  4.14it/s]"
     ]
    },
    {
     "name": "stdout",
     "output_type": "stream",
     "text": [
      "6000 samples done!\n"
     ]
    },
    {
     "name": "stderr",
     "output_type": "stream",
     "text": [
      " 37%|███▋      | 8001/21360 [23:08<46:07,  4.83it/s]  "
     ]
    },
    {
     "name": "stdout",
     "output_type": "stream",
     "text": [
      "10000 samples done!\n"
     ]
    },
    {
     "name": "stderr",
     "output_type": "stream",
     "text": [
      " 42%|████▏     | 9001/21360 [25:58<46:52,  4.39it/s]  "
     ]
    },
    {
     "name": "stdout",
     "output_type": "stream",
     "text": [
      "11000 samples done!\n"
     ]
    },
    {
     "name": "stderr",
     "output_type": "stream",
     "text": [
      " 47%|████▋     | 10001/21360 [28:59<1:30:00,  2.10it/s]"
     ]
    },
    {
     "name": "stdout",
     "output_type": "stream",
     "text": [
      "12000 samples done!\n"
     ]
    },
    {
     "name": "stderr",
     "output_type": "stream",
     "text": [
      " 52%|█████▏    | 11001/21360 [31:55<45:10,  3.82it/s]  "
     ]
    },
    {
     "name": "stdout",
     "output_type": "stream",
     "text": [
      "13000 samples done!\n"
     ]
    },
    {
     "name": "stderr",
     "output_type": "stream",
     "text": [
      " 56%|█████▌    | 12001/21360 [34:37<26:31,  5.88it/s]  "
     ]
    },
    {
     "name": "stdout",
     "output_type": "stream",
     "text": [
      "14000 samples done!\n"
     ]
    },
    {
     "name": "stderr",
     "output_type": "stream",
     "text": [
      " 61%|██████    | 13001/21360 [37:26<40:24,  3.45it/s]  "
     ]
    },
    {
     "name": "stdout",
     "output_type": "stream",
     "text": [
      "15000 samples done!\n"
     ]
    },
    {
     "name": "stderr",
     "output_type": "stream",
     "text": [
      " 66%|██████▌   | 14001/21360 [40:21<18:05,  6.78it/s]  "
     ]
    },
    {
     "name": "stdout",
     "output_type": "stream",
     "text": [
      "16000 samples done!\n"
     ]
    },
    {
     "name": "stderr",
     "output_type": "stream",
     "text": [
      " 70%|███████   | 15002/21360 [43:23<27:07,  3.91it/s]  "
     ]
    },
    {
     "name": "stdout",
     "output_type": "stream",
     "text": [
      "17000 samples done!\n"
     ]
    },
    {
     "name": "stderr",
     "output_type": "stream",
     "text": [
      " 80%|███████▉  | 17001/21360 [50:02<17:40,  4.11it/s]  "
     ]
    },
    {
     "name": "stdout",
     "output_type": "stream",
     "text": [
      "19000 samples done!\n"
     ]
    },
    {
     "name": "stderr",
     "output_type": "stream",
     "text": [
      " 84%|████████▍ | 18001/21360 [53:11<12:47,  4.38it/s]  "
     ]
    },
    {
     "name": "stdout",
     "output_type": "stream",
     "text": [
      "20000 samples done!\n"
     ]
    },
    {
     "name": "stderr",
     "output_type": "stream",
     "text": [
      " 89%|████████▉ | 19001/21360 [55:30<07:08,  5.51it/s]"
     ]
    },
    {
     "name": "stdout",
     "output_type": "stream",
     "text": [
      "21000 samples done!\n"
     ]
    },
    {
     "name": "stderr",
     "output_type": "stream",
     "text": [
      " 94%|█████████▎| 20001/21360 [58:13<04:24,  5.13it/s]"
     ]
    },
    {
     "name": "stdout",
     "output_type": "stream",
     "text": [
      "22000 samples done!\n"
     ]
    },
    {
     "name": "stderr",
     "output_type": "stream",
     "text": [
      " 98%|█████████▊| 21001/21360 [1:01:16<01:53,  3.15it/s]"
     ]
    },
    {
     "name": "stdout",
     "output_type": "stream",
     "text": [
      "23000 samples done!\n"
     ]
    },
    {
     "name": "stderr",
     "output_type": "stream",
     "text": [
      "100%|██████████| 21360/21360 [1:02:12<00:00,  5.72it/s]\n"
     ]
    }
   ],
   "source": [
    "import warnings\n",
    "warnings.filterwarnings(\"ignore\")\n",
    "\n",
    "for i in tqdm(data.index[2000:]):\n",
    "    if data['is_visitor_message'][i] == 'ОПЕРАТОР' and type(data['message'][i]) == str and data['message'][i][0] != '!' and ('севстар' not in data['message'][i].lower()):\n",
    "        input_sequences = [data['message'][i]]\n",
    "        \n",
    "        encoded = tokenizer(\n",
    "            [task_prefix + sequence for sequence in input_sequences],\n",
    "            padding=\"longest\",\n",
    "            max_length=MAX_INPUT,\n",
    "            truncation=True,\n",
    "            return_tensors=\"pt\",\n",
    "        )['input_ids']\n",
    "\n",
    "        predicts = model.generate(encoded)    # # Прогнозирование\n",
    "\n",
    "        output = tokenizer.batch_decode(predicts, skip_special_tokens=True)\n",
    "        data_grammar_fix.loc[i, 'message'] = output[0]\n",
    "    if i % 1000 == 0:\n",
    "        data_grammar_fix.to_csv('data/grammar_fix.csv')\n",
    "        print(i, \"samples done!\")"
   ]
  },
  {
   "cell_type": "code",
   "execution_count": 98,
   "id": "4d978ef6-dc0e-422f-ba65-7c8cf1d7a277",
   "metadata": {
    "execution": {
     "iopub.execute_input": "2024-02-24T12:31:23.886610Z",
     "iopub.status.busy": "2024-02-24T12:31:23.885980Z",
     "iopub.status.idle": "2024-02-24T12:31:24.023956Z",
     "shell.execute_reply": "2024-02-24T12:31:24.023176Z",
     "shell.execute_reply.started": "2024-02-24T12:31:23.886570Z"
    }
   },
   "outputs": [],
   "source": [
    "data_grammar_fix.to_csv('data/grammar_fix.csv')"
   ]
  },
  {
   "cell_type": "markdown",
   "id": "fd2b8ace-9732-49d0-8d42-3e0fc7b0b2dd",
   "metadata": {
    "jp-MarkdownHeadingCollapsed": true,
    "tags": []
   },
   "source": [
    "# Удаление улиц"
   ]
  },
  {
   "cell_type": "code",
   "execution_count": 15,
   "id": "ed21ad01-abbf-4f81-9cd9-846c8849419b",
   "metadata": {
    "execution": {
     "iopub.execute_input": "2024-04-19T12:44:52.340131Z",
     "iopub.status.busy": "2024-04-19T12:44:52.339445Z",
     "iopub.status.idle": "2024-04-19T12:44:52.412620Z",
     "shell.execute_reply": "2024-04-19T12:44:52.411806Z",
     "shell.execute_reply.started": "2024-04-19T12:44:52.340091Z"
    },
    "tags": []
   },
   "outputs": [],
   "source": [
    "df = pd.read_csv('data/grammar_fix.csv')"
   ]
  },
  {
   "cell_type": "code",
   "execution_count": 3,
   "id": "37e49b69-578c-46fc-89a2-7b4e201838d2",
   "metadata": {
    "execution": {
     "iopub.execute_input": "2024-04-19T12:42:57.368814Z",
     "iopub.status.busy": "2024-04-19T12:42:57.367956Z",
     "iopub.status.idle": "2024-04-19T12:42:57.395704Z",
     "shell.execute_reply": "2024-04-19T12:42:57.394995Z",
     "shell.execute_reply.started": "2024-04-19T12:42:57.368767Z"
    }
   },
   "outputs": [],
   "source": [
    "streets_df = pd.read_csv('/home/jupyter/datasphere/project/datasets/sevstar_data/cities_list.csv')"
   ]
  },
  {
   "cell_type": "code",
   "execution_count": 4,
   "id": "e00c7c55-1491-4336-ac3e-945bd9311949",
   "metadata": {
    "execution": {
     "iopub.execute_input": "2024-04-19T12:42:58.228467Z",
     "iopub.status.busy": "2024-04-19T12:42:58.227420Z",
     "iopub.status.idle": "2024-04-19T12:42:58.245605Z",
     "shell.execute_reply": "2024-04-19T12:42:58.244836Z",
     "shell.execute_reply.started": "2024-04-19T12:42:58.228419Z"
    }
   },
   "outputs": [],
   "source": [
    "streets = list(streets_df['name'])\n",
    "short_names_preview = list(set(streets_df['prefix']))"
   ]
  },
  {
   "cell_type": "code",
   "execution_count": 5,
   "id": "ad132f80-0f92-4b42-abfb-08bd61328085",
   "metadata": {
    "execution": {
     "iopub.execute_input": "2024-04-19T12:42:59.036745Z",
     "iopub.status.busy": "2024-04-19T12:42:59.036043Z",
     "iopub.status.idle": "2024-04-19T12:42:59.051398Z",
     "shell.execute_reply": "2024-04-19T12:42:59.050677Z",
     "shell.execute_reply.started": "2024-04-19T12:42:59.036701Z"
    }
   },
   "outputs": [],
   "source": [
    "from numpy import nan\n",
    "short_names = [item for item in short_names_preview if not(pd.isnull(item)) == True]"
   ]
  },
  {
   "cell_type": "code",
   "execution_count": null,
   "id": "466a4f9e-e202-4007-a7b1-044fe86b4d9f",
   "metadata": {
    "execution": {
     "iopub.execute_input": "2024-04-19T12:43:00.527239Z",
     "iopub.status.busy": "2024-04-19T12:43:00.526226Z",
     "iopub.status.idle": "2024-04-19T12:43:00.587808Z",
     "shell.execute_reply": "2024-04-19T12:43:00.587057Z",
     "shell.execute_reply.started": "2024-04-19T12:43:00.527198Z"
    }
   },
   "outputs": [],
   "source": [
    "short_names.append('д')\n",
    "short_names.append('д.')\n",
    "short_names.append('Д')\n",
    "short_names.append('Д.')\n",
    "short_names.append('кв.')\n",
    "short_names.append('КВ.')\n",
    "short_names.append('кв')\n",
    "short_names.append('кВ')\n",
    "short_names.append('Кв')\n",
    "short_names.append('Кв.')\n",
    "short_names.append('кВ.')\n",
    "short_names.append('Ул.')\n",
    "short_names.sort()\n",
    "\n",
    "short_names_fixed = []\n",
    "for word in short_names:\n",
    "    short_names_fixed.append(' ' + word + ' ')\n",
    "short_names_fixed"
   ]
  },
  {
   "cell_type": "code",
   "execution_count": 8,
   "id": "d1bb55ce-dae6-4669-b22d-fa6c82c590de",
   "metadata": {
    "execution": {
     "iopub.execute_input": "2024-04-19T12:43:11.469367Z",
     "iopub.status.busy": "2024-04-19T12:43:11.468342Z",
     "iopub.status.idle": "2024-04-19T12:43:11.483579Z",
     "shell.execute_reply": "2024-04-19T12:43:11.482913Z",
     "shell.execute_reply.started": "2024-04-19T12:43:11.469321Z"
    },
    "tags": []
   },
   "outputs": [],
   "source": [
    "def del_streets(string):\n",
    "    for name in streets:\n",
    "        string = string.replace(name, '<street>')\n",
    "\n",
    "    for short_name in short_names_fixed:\n",
    "        string = string.replace(short_name, ' ')\n",
    "\n",
    "    return string"
   ]
  },
  {
   "cell_type": "code",
   "execution_count": 16,
   "id": "86e7ea3f-0c08-498b-be24-aba852033c89",
   "metadata": {
    "execution": {
     "iopub.execute_input": "2024-04-19T12:44:56.965550Z",
     "iopub.status.busy": "2024-04-19T12:44:56.964801Z",
     "iopub.status.idle": "2024-04-19T12:45:01.217776Z",
     "shell.execute_reply": "2024-04-19T12:45:01.216865Z",
     "shell.execute_reply.started": "2024-04-19T12:44:56.965506Z"
    },
    "tags": []
   },
   "outputs": [
    {
     "name": "stderr",
     "output_type": "stream",
     "text": [
      "100%|██████████| 23360/23360 [00:04<00:00, 5702.52it/s]\n"
     ]
    }
   ],
   "source": [
    "changed = 0\n",
    "for i in tqdm(df.index):\n",
    "    if df['is_visitor_message'][i] == 'АБОНЕНТ':\n",
    "        prev = df.loc[i, 'message']\n",
    "        df.loc[i, 'message'] = del_streets(df['message'][i].lower())\n",
    "        if prev != df.loc[i, 'message']:\n",
    "            changed += 1\n",
    "df.to_csv('data/grammar_cities_fix.csv')"
   ]
  },
  {
   "cell_type": "code",
   "execution_count": 17,
   "id": "2621318e-a6c2-4475-a54b-2c465a1645a1",
   "metadata": {
    "execution": {
     "iopub.execute_input": "2024-04-19T12:45:02.328792Z",
     "iopub.status.busy": "2024-04-19T12:45:02.328039Z",
     "iopub.status.idle": "2024-04-19T12:45:02.345146Z",
     "shell.execute_reply": "2024-04-19T12:45:02.344402Z",
     "shell.execute_reply.started": "2024-04-19T12:45:02.328745Z"
    },
    "tags": []
   },
   "outputs": [
    {
     "data": {
      "text/plain": [
       "5689"
      ]
     },
     "execution_count": 17,
     "metadata": {},
     "output_type": "execute_result"
    }
   ],
   "source": [
    "changed"
   ]
  },
  {
   "cell_type": "markdown",
   "id": "bb698771-5022-4c31-af1f-990e3755305d",
   "metadata": {
    "jp-MarkdownHeadingCollapsed": true,
    "tags": []
   },
   "source": [
    "# Генерация триплетов"
   ]
  },
  {
   "cell_type": "markdown",
   "id": "9eb342d0-50d2-4445-9a03-3e9fe8838494",
   "metadata": {},
   "source": [
    "В качестве негативной пары будем брать случайный ответ пользователя\n",
    "\n",
    "Используем окно контекста длины 6"
   ]
  },
  {
   "cell_type": "code",
   "execution_count": null,
   "id": "724ae61e-3f58-47c9-8a42-37caa5992f6d",
   "metadata": {
    "execution": {
     "iopub.execute_input": "2024-04-19T12:45:10.431775Z",
     "iopub.status.busy": "2024-04-19T12:45:10.431050Z",
     "iopub.status.idle": "2024-04-19T12:45:10.531334Z",
     "shell.execute_reply": "2024-04-19T12:45:10.530619Z",
     "shell.execute_reply.started": "2024-04-19T12:45:10.431732Z"
    },
    "tags": []
   },
   "outputs": [],
   "source": [
    "df = pd.read_csv('data/grammar_cities_fix.csv')\n",
    "df.head()"
   ]
  },
  {
   "cell_type": "code",
   "execution_count": 19,
   "id": "eb8ce3b3-7cfa-4698-8ab4-118c6d2edbfa",
   "metadata": {
    "execution": {
     "iopub.execute_input": "2024-04-19T12:45:13.368603Z",
     "iopub.status.busy": "2024-04-19T12:45:13.367797Z",
     "iopub.status.idle": "2024-04-19T12:45:13.379049Z",
     "shell.execute_reply": "2024-04-19T12:45:13.378209Z",
     "shell.execute_reply.started": "2024-04-19T12:45:13.368559Z"
    },
    "tags": []
   },
   "outputs": [],
   "source": [
    "grouped_df = df"
   ]
  },
  {
   "cell_type": "code",
   "execution_count": null,
   "id": "f55fb9a5-0a07-4a05-824c-d983ac03277a",
   "metadata": {
    "execution": {
     "iopub.execute_input": "2024-04-19T12:45:17.009892Z",
     "iopub.status.busy": "2024-04-19T12:45:17.009205Z",
     "iopub.status.idle": "2024-04-19T12:45:17.046985Z",
     "shell.execute_reply": "2024-04-19T12:45:17.046208Z",
     "shell.execute_reply.started": "2024-04-19T12:45:17.009850Z"
    },
    "tags": []
   },
   "outputs": [],
   "source": [
    "df_no_operator = grouped_df[grouped_df['is_visitor_message'] != 'ОПЕРАТОР']\n",
    "df_no_operator.head()"
   ]
  },
  {
   "cell_type": "code",
   "execution_count": null,
   "id": "b9edf476-2974-447e-a9a6-732772d86199",
   "metadata": {
    "execution": {
     "iopub.execute_input": "2024-04-19T12:45:18.156865Z",
     "iopub.status.busy": "2024-04-19T12:45:18.155801Z",
     "iopub.status.idle": "2024-04-19T12:45:18.186672Z",
     "shell.execute_reply": "2024-04-19T12:45:18.185817Z",
     "shell.execute_reply.started": "2024-04-19T12:45:18.156818Z"
    },
    "tags": []
   },
   "outputs": [],
   "source": [
    "df_operator = grouped_df[grouped_df['is_visitor_message'] == 'ОПЕРАТОР']\n",
    "df_operator.head()"
   ]
  },
  {
   "cell_type": "code",
   "execution_count": 23,
   "id": "9eb0b6eb-44c6-4fc2-9ec0-e638c4098a2d",
   "metadata": {
    "execution": {
     "iopub.execute_input": "2024-04-19T12:45:22.432212Z",
     "iopub.status.busy": "2024-04-19T12:45:22.431376Z",
     "iopub.status.idle": "2024-04-19T12:45:22.450163Z",
     "shell.execute_reply": "2024-04-19T12:45:22.449160Z",
     "shell.execute_reply.started": "2024-04-19T12:45:22.432168Z"
    },
    "tags": []
   },
   "outputs": [],
   "source": [
    "operator_idx = np.array(list(df_operator.index))"
   ]
  },
  {
   "cell_type": "code",
   "execution_count": 24,
   "id": "f0a8d600-ed98-49fb-99c0-d7b01af635e9",
   "metadata": {
    "execution": {
     "iopub.execute_input": "2024-04-19T12:45:22.975700Z",
     "iopub.status.busy": "2024-04-19T12:45:22.974939Z",
     "iopub.status.idle": "2024-04-19T12:45:22.991660Z",
     "shell.execute_reply": "2024-04-19T12:45:22.990963Z",
     "shell.execute_reply.started": "2024-04-19T12:45:22.975653Z"
    },
    "tags": []
   },
   "outputs": [],
   "source": [
    "def get_random(seq, df, exc=None):\n",
    "    if len(seq) == 1:\n",
    "        return seq[0]\n",
    "                                      \n",
    "    selected = None\n",
    "    while selected is None or df['message'][selected] == df['message'][exc] or (df['message'][selected] in df['message'][exc]) or (df['message'][exc] in df['message'][selected]):\n",
    "        selected = np.random.choice(seq)\n",
    "    return selected"
   ]
  },
  {
   "cell_type": "code",
   "execution_count": 2,
   "id": "4418cfe7-1b32-4ba2-a5ff-c70103be9970",
   "metadata": {
    "execution": {
     "iopub.execute_input": "2024-04-28T15:53:57.923830Z",
     "iopub.status.busy": "2024-04-28T15:53:57.923025Z",
     "iopub.status.idle": "2024-04-28T15:53:57.936672Z",
     "shell.execute_reply": "2024-04-28T15:53:57.935738Z",
     "shell.execute_reply.started": "2024-04-28T15:53:57.923793Z"
    },
    "tags": []
   },
   "outputs": [],
   "source": [
    "import pickle\n",
    "\n",
    "def write_list(filename, to_store):\n",
    "    with open(filename, 'wb') as fp:\n",
    "        pickle.dump(to_store, fp)\n",
    "\n",
    "def read_list(filename):\n",
    "    with open(filename, 'rb') as fp:\n",
    "        n_list = pickle.load(fp)\n",
    "        return n_list"
   ]
  },
  {
   "cell_type": "code",
   "execution_count": 26,
   "id": "6564dc47-5330-4280-943d-525241e07b92",
   "metadata": {
    "execution": {
     "iopub.execute_input": "2024-04-19T12:45:34.451209Z",
     "iopub.status.busy": "2024-04-19T12:45:34.450313Z",
     "iopub.status.idle": "2024-04-19T12:45:41.967917Z",
     "shell.execute_reply": "2024-04-19T12:45:41.967078Z",
     "shell.execute_reply.started": "2024-04-19T12:45:34.451153Z"
    },
    "tags": []
   },
   "outputs": [
    {
     "name": "stderr",
     "output_type": "stream",
     "text": [
      "100%|██████████| 23360/23360 [00:07<00:00, 3115.96it/s]\n"
     ]
    }
   ],
   "source": [
    "anchors = []\n",
    "pos = []\n",
    "neg = []\n",
    "\n",
    "context = ['', '', '', '', '', '']\n",
    "cur_id = None\n",
    "\n",
    "for i in tqdm(df.index):\n",
    "    if df['is_visitor_message'][i] != 'ОПЕРАТОР':\n",
    "        if cur_id == df['chat_id'][i]:\n",
    "            context.pop(0)\n",
    "            context.append(df['message'][i])\n",
    "        else:\n",
    "            context = ['', '', '', '', '', df['message'][i]]\n",
    "            cur_id = df['chat_id'][i]\n",
    "            \n",
    "        if i+1 < df.shape[0] and df['is_visitor_message'][i+1] == 'ОПЕРАТОР':\n",
    "            write_list(f'anchors/{i}.pickle', context)\n",
    "            anchors.append(i)\n",
    "            neg_id = get_random(operator_idx, df, i+1)\n",
    "            neg.append(grouped_df['message'][neg_id])\n",
    "            pos.append(grouped_df['message'][i+1])"
   ]
  },
  {
   "cell_type": "code",
   "execution_count": 27,
   "id": "c95f2789-ccc0-4b4f-b523-3ecee9dc0411",
   "metadata": {
    "execution": {
     "iopub.execute_input": "2024-04-19T12:45:41.969608Z",
     "iopub.status.busy": "2024-04-19T12:45:41.969183Z",
     "iopub.status.idle": "2024-04-19T12:45:41.993955Z",
     "shell.execute_reply": "2024-04-19T12:45:41.992910Z",
     "shell.execute_reply.started": "2024-04-19T12:45:41.969574Z"
    },
    "tags": []
   },
   "outputs": [
    {
     "data": {
      "text/html": [
       "<div>\n",
       "<style scoped>\n",
       "    .dataframe tbody tr th:only-of-type {\n",
       "        vertical-align: middle;\n",
       "    }\n",
       "\n",
       "    .dataframe tbody tr th {\n",
       "        vertical-align: top;\n",
       "    }\n",
       "\n",
       "    .dataframe thead th {\n",
       "        text-align: right;\n",
       "    }\n",
       "</style>\n",
       "<table border=\"1\" class=\"dataframe\">\n",
       "  <thead>\n",
       "    <tr style=\"text-align: right;\">\n",
       "      <th></th>\n",
       "      <th>anchor</th>\n",
       "      <th>positive</th>\n",
       "      <th>negative</th>\n",
       "    </tr>\n",
       "  </thead>\n",
       "  <tbody>\n",
       "    <tr>\n",
       "      <th>0</th>\n",
       "      <td>0</td>\n",
       "      <td>!ЗАПРОС_В_ЕРП</td>\n",
       "      <td>Здравствуйте! Уточните, пожалуйста, адрес, либ...</td>\n",
       "    </tr>\n",
       "    <tr>\n",
       "      <th>1</th>\n",
       "      <td>2</td>\n",
       "      <td>Здравствуйте.</td>\n",
       "      <td>Да, всё верно.</td>\n",
       "    </tr>\n",
       "    <tr>\n",
       "      <th>2</th>\n",
       "      <td>6</td>\n",
       "      <td>!ЗАПРОС_В_ЕРП</td>\n",
       "      <td>Адреса корреспонденции доступны у нас на сайте</td>\n",
       "    </tr>\n",
       "    <tr>\n",
       "      <th>3</th>\n",
       "      <td>8</td>\n",
       "      <td>Заявка оформлена.</td>\n",
       "      <td>Удаленный тест не выявил видимых неполадок под...</td>\n",
       "    </tr>\n",
       "    <tr>\n",
       "      <th>4</th>\n",
       "      <td>11</td>\n",
       "      <td>Здравствуйте. Скажите, пожалуйста, Ваш адрес и...</td>\n",
       "      <td>Отключите, пожалуйста, роутер из розетки на 20...</td>\n",
       "    </tr>\n",
       "  </tbody>\n",
       "</table>\n",
       "</div>"
      ],
      "text/plain": [
       "   anchor  ...                                           negative\n",
       "0       0  ...  Здравствуйте! Уточните, пожалуйста, адрес, либ...\n",
       "1       2  ...                                     Да, всё верно.\n",
       "2       6  ...     Адреса корреспонденции доступны у нас на сайте\n",
       "3       8  ...  Удаленный тест не выявил видимых неполадок под...\n",
       "4      11  ...  Отключите, пожалуйста, роутер из розетки на 20...\n",
       "\n",
       "[5 rows x 3 columns]"
      ]
     },
     "execution_count": 27,
     "metadata": {},
     "output_type": "execute_result"
    }
   ],
   "source": [
    "d = {'anchor' : anchors,\n",
    "    'positive' : pos,\n",
    "    'negative' : neg}\n",
    "    \n",
    "df = pd.DataFrame(data=d)\n",
    "df.head()"
   ]
  },
  {
   "cell_type": "code",
   "execution_count": 28,
   "id": "81435495-6f73-4c3c-b526-c836d22964cc",
   "metadata": {
    "execution": {
     "iopub.execute_input": "2024-04-19T12:45:51.543586Z",
     "iopub.status.busy": "2024-04-19T12:45:51.542830Z",
     "iopub.status.idle": "2024-04-19T12:45:51.605794Z",
     "shell.execute_reply": "2024-04-19T12:45:51.604932Z",
     "shell.execute_reply.started": "2024-04-19T12:45:51.543539Z"
    },
    "tags": []
   },
   "outputs": [],
   "source": [
    "df.to_csv('data/triplets_cities_with_context.csv')"
   ]
  },
  {
   "cell_type": "code",
   "execution_count": 29,
   "id": "94fe2ec0-7c9c-4664-a900-74c1253c1542",
   "metadata": {
    "execution": {
     "iopub.execute_input": "2024-04-19T12:45:54.820286Z",
     "iopub.status.busy": "2024-04-19T12:45:54.819549Z",
     "iopub.status.idle": "2024-04-19T12:45:54.833367Z",
     "shell.execute_reply": "2024-04-19T12:45:54.832715Z",
     "shell.execute_reply.started": "2024-04-19T12:45:54.820247Z"
    },
    "tags": []
   },
   "outputs": [
    {
     "data": {
      "text/plain": [
       "(8723, 3)"
      ]
     },
     "execution_count": 29,
     "metadata": {},
     "output_type": "execute_result"
    }
   ],
   "source": [
    "df.shape"
   ]
  },
  {
   "cell_type": "markdown",
   "id": "1c130f6b-3344-4b0a-b6ef-576f6196e644",
   "metadata": {
    "tags": []
   },
   "source": [
    "# Конкатенация контекста"
   ]
  },
  {
   "cell_type": "code",
   "execution_count": 2,
   "id": "bac95cba-9fdb-416f-8f92-2219db8c851b",
   "metadata": {
    "execution": {
     "iopub.execute_input": "2024-04-28T16:51:10.625218Z",
     "iopub.status.busy": "2024-04-28T16:51:10.624339Z",
     "iopub.status.idle": "2024-04-28T16:51:17.501560Z",
     "shell.execute_reply": "2024-04-28T16:51:17.500614Z",
     "shell.execute_reply.started": "2024-04-28T16:51:10.625172Z"
    },
    "tags": []
   },
   "outputs": [
    {
     "name": "stdout",
     "output_type": "stream",
     "text": [
      "0 159\n"
     ]
    }
   ],
   "source": [
    "import pandas as pd\n",
    "import re\n",
    "import pickle\n",
    "\n",
    "def read_list(filename):\n",
    "    with open(filename, 'rb') as fp:\n",
    "        n_list = pickle.load(fp)\n",
    "        return n_list\n",
    "\n",
    "df = pd.read_csv('data/triplets_cities_with_context_scores.csv')\n",
    "anchors = df['anchor']\n",
    "anchors_text = []\n",
    "mn, mx = 10000000, 0\n",
    "for i in anchors:\n",
    "    cur = read_list(f'anchors/{i}.pickle')\n",
    "    not_empty = 0\n",
    "    for j in range(len(cur)):\n",
    "        if len(cur[j]) != 0:\n",
    "            break\n",
    "        not_empty+=1\n",
    "    cur = ' '.join(cur[not_empty:])\n",
    "    anchors_text.append(cur)\n",
    "    count = len(re.findall(r'\\w+', cur))\n",
    "    mx = max(count, mx)\n",
    "    mn = min(count, mn)\n",
    "print(mn, mx)"
   ]
  },
  {
   "cell_type": "markdown",
   "id": "afa2cf04-fe2c-495f-9404-c91d2339c329",
   "metadata": {},
   "source": [
    "Т.к. токенайзер имеет max_length=2048, можно сложить окно контекста в одну строку."
   ]
  },
  {
   "cell_type": "code",
   "execution_count": null,
   "id": "3479d628-3f88-459e-85bf-931a83753107",
   "metadata": {
    "execution": {
     "iopub.execute_input": "2024-04-28T16:51:26.548821Z",
     "iopub.status.busy": "2024-04-28T16:51:26.547883Z",
     "iopub.status.idle": "2024-04-28T16:51:26.591663Z",
     "shell.execute_reply": "2024-04-28T16:51:26.590888Z",
     "shell.execute_reply.started": "2024-04-28T16:51:26.548773Z"
    },
    "tags": []
   },
   "outputs": [],
   "source": [
    "df['anchor_one_str'] = anchors_text\n",
    "df.head()"
   ]
  },
  {
   "cell_type": "code",
   "execution_count": 5,
   "id": "80d221cd-cb1b-425a-82e0-2449c395e140",
   "metadata": {
    "execution": {
     "iopub.execute_input": "2024-04-28T16:51:28.006983Z",
     "iopub.status.busy": "2024-04-28T16:51:28.006077Z",
     "iopub.status.idle": "2024-04-28T16:51:28.131179Z",
     "shell.execute_reply": "2024-04-28T16:51:28.130227Z",
     "shell.execute_reply.started": "2024-04-28T16:51:28.006936Z"
    },
    "tags": []
   },
   "outputs": [],
   "source": [
    "df = df.drop(columns=['Unnamed: 0', 'Unnamed: 0.1'])\n",
    "df.to_csv('data/triplets_cities_context_onestr_scores.csv')"
   ]
  },
  {
   "cell_type": "markdown",
   "id": "60b7b5ab-00df-4fef-bb27-653f4747ac92",
   "metadata": {
    "tags": []
   },
   "source": [
    "# Предподсчет скора оценщика"
   ]
  },
  {
   "cell_type": "code",
   "execution_count": null,
   "id": "6013c95c-0c3c-49d0-891a-030fa8b53936",
   "metadata": {
    "execution": {
     "iopub.execute_input": "2024-04-28T19:22:23.056564Z",
     "iopub.status.busy": "2024-04-28T19:22:23.055373Z",
     "iopub.status.idle": "2024-04-28T19:24:03.085711Z",
     "shell.execute_reply": "2024-04-28T19:24:03.084885Z",
     "shell.execute_reply.started": "2024-04-28T19:22:23.056507Z"
    },
    "tags": []
   },
   "outputs": [],
   "source": [
    "import torch\n",
    "import torch.nn as nn\n",
    "from transformers import AutoTokenizer, AutoModel\n",
    "\n",
    "class RewardModel(nn.Module):\n",
    "        def __init__(self, model_name):\n",
    "            super(RewardModel, self).__init__()\n",
    "            self.checkpoint = model_name\n",
    "            self.bert = AutoModel.from_pretrained(model_name,\n",
    "                                                  return_dict=False)\n",
    "            self.layer_norm = nn.LayerNorm(768)\n",
    "            self.dropout = nn.Dropout(0.3)\n",
    "            self.dense = nn.Sequential(\n",
    "                nn.Linear(768, 512),\n",
    "                nn.LeakyReLU(negative_slope=0.01),\n",
    "                nn.Dropout(0.3),\n",
    "                nn.Linear(512, 1),\n",
    "                nn.Sigmoid()\n",
    "            )\n",
    "\n",
    "        def forward(self, input_ids, token_type_ids, attention_mask):\n",
    "            \n",
    "            model_output = self.bert(input_ids=input_ids, \n",
    "                                     token_type_ids = token_type_ids,\n",
    "                                     attention_mask=attention_mask)\n",
    "            \n",
    "            last_hidden_states = model_output[0]\n",
    "            pooled_output = last_hidden_states[:,0]\n",
    "            pooled_output = self.layer_norm(pooled_output)\n",
    "            pooled_output = self.dropout(pooled_output)\n",
    "            preds = self.dense(pooled_output)\n",
    "            return preds\n",
    "\n",
    "\n",
    "#Create model object and init pretrain weights:\n",
    "reward_name = \"ai-forever/ruBert-base\"\n",
    "tokenizer_reward=AutoTokenizer.from_pretrained(reward_name)\n",
    "model_reward = RewardModel(reward_name)\n",
    "device = \"cuda:0\" if torch.cuda.is_available() else \"cpu\"\n",
    "if device == 'cpu':\n",
    "    model_reward.load_state_dict(torch.load('./ruBert-base-reward/pytorch_model.bin', map_location=torch.device('cpu')), strict=False)\n",
    "else:\n",
    "    model_reward.load_state_dict(torch.load('./ruBert-base-reward/pytorch_model.bin'), strict=False)\n",
    "model_reward.to(device);"
   ]
  },
  {
   "cell_type": "code",
   "execution_count": 2,
   "id": "73887d53-2fea-4632-a9ec-ba9bc950f7e7",
   "metadata": {
    "execution": {
     "iopub.execute_input": "2024-04-28T19:24:03.088107Z",
     "iopub.status.busy": "2024-04-28T19:24:03.087158Z",
     "iopub.status.idle": "2024-04-28T19:24:03.109724Z",
     "shell.execute_reply": "2024-04-28T19:24:03.108880Z",
     "shell.execute_reply.started": "2024-04-28T19:24:03.088066Z"
    },
    "tags": []
   },
   "outputs": [],
   "source": [
    "def get_score(anchor, positive):\n",
    "    with torch.no_grad():\n",
    "        encoded_input = tokenizer_reward(anchor, positive,\n",
    "                                          truncation=True,\n",
    "                                          add_special_tokens=True,\n",
    "                                          max_length=512,\n",
    "                                          padding='max_length',\n",
    "                                          return_tensors='pt')\n",
    "\n",
    "        encoded_input = encoded_input.to(device)\n",
    "        r_score = model_reward(**encoded_input).cpu().flatten().numpy()[0]\n",
    "    return r_score"
   ]
  },
  {
   "cell_type": "code",
   "execution_count": null,
   "id": "73c499fd-07fb-40c6-8ba1-59bdc27af748",
   "metadata": {
    "execution": {
     "iopub.execute_input": "2024-04-28T19:24:03.111888Z",
     "iopub.status.busy": "2024-04-28T19:24:03.111345Z",
     "iopub.status.idle": "2024-04-28T19:24:03.248822Z",
     "shell.execute_reply": "2024-04-28T19:24:03.247995Z",
     "shell.execute_reply.started": "2024-04-28T19:24:03.111849Z"
    },
    "tags": []
   },
   "outputs": [],
   "source": [
    "import pandas as pd\n",
    "df = pd.read_csv('data/triplets_cities_context_onestr_scores.csv')\n",
    "df.head()"
   ]
  },
  {
   "cell_type": "code",
   "execution_count": 5,
   "id": "9026d110-71bf-4127-b596-101ae943b7b7",
   "metadata": {
    "execution": {
     "iopub.execute_input": "2024-04-28T19:24:39.070191Z",
     "iopub.status.busy": "2024-04-28T19:24:39.069201Z",
     "iopub.status.idle": "2024-04-28T19:24:39.084948Z",
     "shell.execute_reply": "2024-04-28T19:24:39.084244Z",
     "shell.execute_reply.started": "2024-04-28T19:24:39.070148Z"
    }
   },
   "outputs": [],
   "source": [
    "import pickle\n",
    "\n",
    "def write_list(filename, to_store):\n",
    "    with open(filename, 'wb') as fp:\n",
    "        pickle.dump(to_store, fp)"
   ]
  },
  {
   "cell_type": "code",
   "execution_count": 6,
   "id": "7eb1be88-76f0-48d2-808f-3c7ce26f6474",
   "metadata": {
    "execution": {
     "iopub.execute_input": "2024-04-28T19:24:39.532850Z",
     "iopub.status.busy": "2024-04-28T19:24:39.532053Z",
     "iopub.status.idle": "2024-04-28T20:35:22.835314Z",
     "shell.execute_reply": "2024-04-28T20:35:22.834454Z",
     "shell.execute_reply.started": "2024-04-28T19:24:39.532803Z"
    },
    "tags": []
   },
   "outputs": [
    {
     "name": "stderr",
     "output_type": "stream",
     "text": [
      "  0%|          | 1/8723 [00:00<1:14:15,  1.96it/s]"
     ]
    },
    {
     "name": "stdout",
     "output_type": "stream",
     "text": [
      "Scores for 0 samples saved\n"
     ]
    },
    {
     "name": "stderr",
     "output_type": "stream",
     "text": [
      "  6%|▌         | 501/8723 [04:04<1:06:51,  2.05it/s]"
     ]
    },
    {
     "name": "stdout",
     "output_type": "stream",
     "text": [
      "Scores for 500 samples saved\n"
     ]
    },
    {
     "name": "stderr",
     "output_type": "stream",
     "text": [
      " 11%|█▏        | 1001/8723 [08:06<1:01:53,  2.08it/s]"
     ]
    },
    {
     "name": "stdout",
     "output_type": "stream",
     "text": [
      "Scores for 1000 samples saved\n"
     ]
    },
    {
     "name": "stderr",
     "output_type": "stream",
     "text": [
      " 17%|█▋        | 1501/8723 [12:09<59:07,  2.04it/s]  "
     ]
    },
    {
     "name": "stdout",
     "output_type": "stream",
     "text": [
      "Scores for 1500 samples saved\n"
     ]
    },
    {
     "name": "stderr",
     "output_type": "stream",
     "text": [
      " 23%|██▎       | 2001/8723 [16:14<54:13,  2.07it/s]  "
     ]
    },
    {
     "name": "stdout",
     "output_type": "stream",
     "text": [
      "Scores for 2000 samples saved\n"
     ]
    },
    {
     "name": "stderr",
     "output_type": "stream",
     "text": [
      " 29%|██▊       | 2501/8723 [20:18<50:05,  2.07it/s]"
     ]
    },
    {
     "name": "stdout",
     "output_type": "stream",
     "text": [
      "Scores for 2500 samples saved\n"
     ]
    },
    {
     "name": "stderr",
     "output_type": "stream",
     "text": [
      " 34%|███▍      | 3001/8723 [24:21<46:36,  2.05it/s]"
     ]
    },
    {
     "name": "stdout",
     "output_type": "stream",
     "text": [
      "Scores for 3000 samples saved\n"
     ]
    },
    {
     "name": "stderr",
     "output_type": "stream",
     "text": [
      " 40%|████      | 3501/8723 [28:23<42:54,  2.03it/s]"
     ]
    },
    {
     "name": "stdout",
     "output_type": "stream",
     "text": [
      "Scores for 3500 samples saved\n"
     ]
    },
    {
     "name": "stderr",
     "output_type": "stream",
     "text": [
      " 46%|████▌     | 4001/8723 [32:28<38:31,  2.04it/s]"
     ]
    },
    {
     "name": "stdout",
     "output_type": "stream",
     "text": [
      "Scores for 4000 samples saved\n"
     ]
    },
    {
     "name": "stderr",
     "output_type": "stream",
     "text": [
      " 52%|█████▏    | 4501/8723 [36:32<34:51,  2.02it/s]"
     ]
    },
    {
     "name": "stdout",
     "output_type": "stream",
     "text": [
      "Scores for 4500 samples saved\n"
     ]
    },
    {
     "name": "stderr",
     "output_type": "stream",
     "text": [
      " 57%|█████▋    | 5001/8723 [40:35<30:17,  2.05it/s]"
     ]
    },
    {
     "name": "stdout",
     "output_type": "stream",
     "text": [
      "Scores for 5000 samples saved\n"
     ]
    },
    {
     "name": "stderr",
     "output_type": "stream",
     "text": [
      " 63%|██████▎   | 5501/8723 [44:38<26:22,  2.04it/s]"
     ]
    },
    {
     "name": "stdout",
     "output_type": "stream",
     "text": [
      "Scores for 5500 samples saved\n"
     ]
    },
    {
     "name": "stderr",
     "output_type": "stream",
     "text": [
      " 69%|██████▉   | 6001/8723 [48:40<22:27,  2.02it/s]"
     ]
    },
    {
     "name": "stdout",
     "output_type": "stream",
     "text": [
      "Scores for 6000 samples saved\n"
     ]
    },
    {
     "name": "stderr",
     "output_type": "stream",
     "text": [
      " 75%|███████▍  | 6501/8723 [52:43<18:04,  2.05it/s]"
     ]
    },
    {
     "name": "stdout",
     "output_type": "stream",
     "text": [
      "Scores for 6500 samples saved\n"
     ]
    },
    {
     "name": "stderr",
     "output_type": "stream",
     "text": [
      " 80%|████████  | 7001/8723 [56:46<14:02,  2.04it/s]"
     ]
    },
    {
     "name": "stdout",
     "output_type": "stream",
     "text": [
      "Scores for 7000 samples saved\n"
     ]
    },
    {
     "name": "stderr",
     "output_type": "stream",
     "text": [
      " 86%|████████▌ | 7501/8723 [1:00:49<10:00,  2.03it/s]"
     ]
    },
    {
     "name": "stdout",
     "output_type": "stream",
     "text": [
      "Scores for 7500 samples saved\n"
     ]
    },
    {
     "name": "stderr",
     "output_type": "stream",
     "text": [
      " 92%|█████████▏| 8001/8723 [1:04:51<05:53,  2.04it/s]"
     ]
    },
    {
     "name": "stdout",
     "output_type": "stream",
     "text": [
      "Scores for 8000 samples saved\n"
     ]
    },
    {
     "name": "stderr",
     "output_type": "stream",
     "text": [
      " 97%|█████████▋| 8501/8723 [1:08:54<01:50,  2.02it/s]"
     ]
    },
    {
     "name": "stdout",
     "output_type": "stream",
     "text": [
      "Scores for 8500 samples saved\n"
     ]
    },
    {
     "name": "stderr",
     "output_type": "stream",
     "text": [
      "100%|██████████| 8723/8723 [1:10:43<00:00,  2.06it/s]\n"
     ]
    }
   ],
   "source": [
    "from tqdm import tqdm\n",
    "scores = []\n",
    "\n",
    "for i in tqdm(df.index):\n",
    "    context = df[\"anchor_one_str\"][i]\n",
    "    scores.append(get_score(context, df['positive'][i]))\n",
    "    if i % 500 == 0:\n",
    "        write_list('data/scores.pckl', scores)\n",
    "        print(f'Scores for {i} samples saved')"
   ]
  },
  {
   "cell_type": "code",
   "execution_count": 7,
   "id": "359d792f-597a-4daf-a04a-9dd81d5965c2",
   "metadata": {
    "execution": {
     "iopub.execute_input": "2024-04-28T20:35:22.837637Z",
     "iopub.status.busy": "2024-04-28T20:35:22.836929Z",
     "iopub.status.idle": "2024-04-28T20:35:22.876070Z",
     "shell.execute_reply": "2024-04-28T20:35:22.875348Z",
     "shell.execute_reply.started": "2024-04-28T20:35:22.837588Z"
    },
    "tags": []
   },
   "outputs": [],
   "source": [
    "write_list('data/scores.pckl', scores)"
   ]
  },
  {
   "cell_type": "code",
   "execution_count": 8,
   "id": "d80b39c0-0dba-431c-90cb-b8065514f594",
   "metadata": {
    "execution": {
     "iopub.execute_input": "2024-04-28T20:35:22.878358Z",
     "iopub.status.busy": "2024-04-28T20:35:22.877669Z",
     "iopub.status.idle": "2024-04-28T20:35:22.994435Z",
     "shell.execute_reply": "2024-04-28T20:35:22.993669Z",
     "shell.execute_reply.started": "2024-04-28T20:35:22.878322Z"
    },
    "tags": []
   },
   "outputs": [],
   "source": [
    "df['score'] = scores\n",
    "df.to_csv('data/triplets_cities_context_onestr_scores.csv')"
   ]
  },
  {
   "cell_type": "code",
   "execution_count": null,
   "id": "9803c5c0-d7a7-4abb-b3b4-9971009899b4",
   "metadata": {},
   "outputs": [],
   "source": []
  }
 ],
 "metadata": {
  "kernelspec": {
   "display_name": "DataSphere Kernel",
   "language": "python",
   "name": "python3"
  },
  "language_info": {
   "codemirror_mode": {
    "name": "ipython",
    "version": 3
   },
   "file_extension": ".py",
   "mimetype": "text/x-python",
   "name": "python",
   "nbconvert_exporter": "python",
   "pygments_lexer": "ipython3",
   "version": "3.10.12"
  }
 },
 "nbformat": 4,
 "nbformat_minor": 5
}
