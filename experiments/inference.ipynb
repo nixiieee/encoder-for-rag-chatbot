{
 "cells": [
  {
   "cell_type": "markdown",
   "id": "f739d94a-0b6d-4646-82a7-2be59e45963a",
   "metadata": {
    "tags": []
   },
   "source": [
    "# Загрузка и импорт библиотек"
   ]
  },
  {
   "cell_type": "code",
   "execution_count": null,
   "id": "8f3bc515-05c7-48b4-96c7-3432d5dfc4d6",
   "metadata": {
    "execution": {
     "iopub.execute_input": "2024-03-20T18:29:50.611989Z",
     "iopub.status.busy": "2024-03-20T18:29:50.611007Z",
     "iopub.status.idle": "2024-03-20T18:30:06.319240Z",
     "shell.execute_reply": "2024-03-20T18:30:06.318146Z",
     "shell.execute_reply.started": "2024-03-20T18:29:50.611944Z"
    },
    "tags": []
   },
   "outputs": [],
   "source": [
    "%pip install --user annoy"
   ]
  },
  {
   "cell_type": "code",
   "execution_count": 5,
   "id": "93564bcb-2bf3-45d6-a415-2979a0c04f2a",
   "metadata": {
    "execution": {
     "iopub.execute_input": "2024-04-29T15:50:16.723665Z",
     "iopub.status.busy": "2024-04-29T15:50:16.722868Z",
     "iopub.status.idle": "2024-04-29T15:50:16.738254Z",
     "shell.execute_reply": "2024-04-29T15:50:16.737436Z",
     "shell.execute_reply.started": "2024-04-29T15:50:16.723621Z"
    },
    "tags": []
   },
   "outputs": [],
   "source": [
    "import pandas as pd\n",
    "from tqdm import tqdm\n",
    "import pickle\n",
    "from transformers import AutoTokenizer, AutoModel\n",
    "import torch\n",
    "from annoy import AnnoyIndex\n",
    "import random"
   ]
  },
  {
   "cell_type": "markdown",
   "id": "ffa2e023-25ed-4494-82a2-3e6b2f2ffe3f",
   "metadata": {
    "tags": []
   },
   "source": [
    "# Энкодер"
   ]
  },
  {
   "cell_type": "code",
   "execution_count": 1,
   "id": "0a5824c0-6b81-40af-a68b-698a4906eb78",
   "metadata": {
    "execution": {
     "iopub.execute_input": "2024-04-29T15:50:03.420210Z",
     "iopub.status.busy": "2024-04-29T15:50:03.419162Z",
     "iopub.status.idle": "2024-04-29T15:50:03.443261Z",
     "shell.execute_reply": "2024-04-29T15:50:03.442352Z",
     "shell.execute_reply.started": "2024-04-29T15:50:03.420158Z"
    },
    "tags": []
   },
   "outputs": [],
   "source": [
    "version = '_tiny2_context_softmax_final'\n",
    "max_length=2048"
   ]
  },
  {
   "cell_type": "code",
   "execution_count": null,
   "id": "49aee6df-332f-4046-a086-2fbb2c08b5a0",
   "metadata": {
    "execution": {
     "iopub.execute_input": "2024-04-29T15:50:03.869922Z",
     "iopub.status.busy": "2024-04-29T15:50:03.869323Z",
     "iopub.status.idle": "2024-04-29T15:50:11.388287Z",
     "shell.execute_reply": "2024-04-29T15:50:11.387519Z",
     "shell.execute_reply.started": "2024-04-29T15:50:03.869863Z"
    },
    "tags": []
   },
   "outputs": [],
   "source": [
    "'''\n",
    "def mean_pooling(model_output, attention_mask):\n",
    "    token_embeddings = model_output[0] #First element of model_output contains all token embeddings\n",
    "    input_mask_expanded = attention_mask.unsqueeze(-1).expand(token_embeddings.size()).float()\n",
    "    sum_embeddings = torch.sum(token_embeddings * input_mask_expanded, 1)\n",
    "    sum_mask = torch.clamp(input_mask_expanded.sum(1), min=1e-9)\n",
    "    return sum_embeddings / sum_mask\n",
    "\n",
    "tokenizer = AutoTokenizer.from_pretrained(\"ai-forever/sbert_large_mt_nlu_ru\")\n",
    "model_question = AutoModel.from_pretrained(\"ai-forever/sbert_large_mt_nlu_ru\")\n",
    "model_answer = AutoModel.from_pretrained(\"ai-forever/sbert_large_mt_nlu_ru\")'''\n",
    "\n",
    "def embed_bert_cls(model_output):\n",
    "    embeddings = model_output.last_hidden_state[:, 0, :]\n",
    "    embeddings = torch.nn.functional.normalize(embeddings)\n",
    "    return embeddings\n",
    "\n",
    "tokenizer = AutoTokenizer.from_pretrained(\"cointegrated/rubert-tiny2\")\n",
    "model_question = AutoModel.from_pretrained(\"cointegrated/rubert-tiny2\")\n",
    "model_answer = AutoModel.from_pretrained(\"cointegrated/rubert-tiny2\")"
   ]
  },
  {
   "cell_type": "code",
   "execution_count": 3,
   "id": "23487ea2-5423-4414-ab41-822e8e62751b",
   "metadata": {
    "execution": {
     "iopub.execute_input": "2024-04-29T15:50:11.390374Z",
     "iopub.status.busy": "2024-04-29T15:50:11.389832Z",
     "iopub.status.idle": "2024-04-29T15:50:12.306183Z",
     "shell.execute_reply": "2024-04-29T15:50:12.305351Z",
     "shell.execute_reply.started": "2024-04-29T15:50:11.390336Z"
    },
    "tags": []
   },
   "outputs": [
    {
     "data": {
      "text/plain": [
       "<All keys matched successfully>"
      ]
     },
     "execution_count": 3,
     "metadata": {},
     "output_type": "execute_result"
    }
   ],
   "source": [
    "model_question.load_state_dict(torch.load(f'models/model_anchor{version}.bin', map_location=torch.device('cpu')))\n",
    "model_answer.load_state_dict(torch.load(f'models/model_pos_neg{version}.bin', map_location=torch.device('cpu')))"
   ]
  },
  {
   "cell_type": "markdown",
   "id": "62189b12-9087-46a1-9e86-fcd96fcb9b53",
   "metadata": {},
   "source": [
    "# Annoy"
   ]
  },
  {
   "cell_type": "code",
   "execution_count": 6,
   "id": "4af337c0-ac99-42a9-8c97-0c4b9324e3bc",
   "metadata": {
    "execution": {
     "iopub.execute_input": "2024-04-29T15:50:19.295138Z",
     "iopub.status.busy": "2024-04-29T15:50:19.294022Z",
     "iopub.status.idle": "2024-04-29T15:50:19.404398Z",
     "shell.execute_reply": "2024-04-29T15:50:19.403461Z",
     "shell.execute_reply.started": "2024-04-29T15:50:19.295089Z"
    },
    "tags": []
   },
   "outputs": [
    {
     "data": {
      "text/plain": [
       "(2934, 9)"
      ]
     },
     "execution_count": 6,
     "metadata": {},
     "output_type": "execute_result"
    }
   ],
   "source": [
    "df = pd.read_csv('data/grammar_cities_fix.csv')\n",
    "df = df[df['is_visitor_message'] == 'ОПЕРАТОР']\n",
    "df = df.drop_duplicates(subset=['message'])\n",
    "df.shape"
   ]
  },
  {
   "cell_type": "code",
   "execution_count": 7,
   "id": "348721a7-e139-4678-a58d-7f06de9a5c38",
   "metadata": {
    "execution": {
     "iopub.execute_input": "2024-04-29T15:50:19.793591Z",
     "iopub.status.busy": "2024-04-29T15:50:19.792472Z",
     "iopub.status.idle": "2024-04-29T15:50:36.791028Z",
     "shell.execute_reply": "2024-04-29T15:50:36.790334Z",
     "shell.execute_reply.started": "2024-04-29T15:50:19.793543Z"
    },
    "tags": []
   },
   "outputs": [
    {
     "name": "stderr",
     "output_type": "stream",
     "text": [
      "100%|██████████| 2934/2934 [00:16<00:00, 175.44it/s]\n"
     ]
    },
    {
     "data": {
      "text/plain": [
       "True"
      ]
     },
     "execution_count": 7,
     "metadata": {},
     "output_type": "execute_result"
    }
   ],
   "source": [
    "# f = 1024  # for sbert\n",
    "f = 312 # for tiny2\n",
    "\n",
    "t = AnnoyIndex(f, 'angular')\n",
    "for i in tqdm(df.index):\n",
    "    encoded_input = tokenizer(df['message'][i], padding=True, truncation=True, max_length=2048, return_tensors='pt')\n",
    "    with torch.no_grad():\n",
    "        model_output = model_answer(**encoded_input)\n",
    "    sentence_embedding = embed_bert_cls(model_output)\n",
    "    t.add_item(i, sentence_embedding[0])\n",
    "\n",
    "t.build(100)\n",
    "t.save(f'{version[1:]}.ann')"
   ]
  },
  {
   "cell_type": "code",
   "execution_count": 8,
   "id": "f80a222d-2277-4264-880f-82fb6e4eec32",
   "metadata": {
    "execution": {
     "iopub.execute_input": "2024-04-29T15:50:36.793362Z",
     "iopub.status.busy": "2024-04-29T15:50:36.792474Z",
     "iopub.status.idle": "2024-04-29T15:50:37.034535Z",
     "shell.execute_reply": "2024-04-29T15:50:37.033805Z",
     "shell.execute_reply.started": "2024-04-29T15:50:36.793320Z"
    },
    "tags": []
   },
   "outputs": [
    {
     "name": "stdout",
     "output_type": "stream",
     "text": [
      "[18, 19, 28, 32, 56, 69, 77, 117, 119, 126]\n"
     ]
    }
   ],
   "source": [
    "u = AnnoyIndex(f, 'angular')\n",
    "u.load(f'{version[1:]}.ann') # super fast, will just mmap the file\n",
    "print(u.get_nns_by_item(0, 10)) # will find the 10 nearest neighbors"
   ]
  },
  {
   "cell_type": "code",
   "execution_count": 13,
   "id": "19e3da7b-38bd-4940-85fb-da7cfb1e5428",
   "metadata": {
    "execution": {
     "iopub.execute_input": "2024-04-29T13:21:13.384130Z",
     "iopub.status.busy": "2024-04-29T13:21:13.383604Z",
     "iopub.status.idle": "2024-04-29T13:21:13.398131Z",
     "shell.execute_reply": "2024-04-29T13:21:13.397309Z",
     "shell.execute_reply.started": "2024-04-29T13:21:13.384092Z"
    },
    "tags": []
   },
   "outputs": [],
   "source": [
    "def get_question_embs(question):\n",
    "    encoded_input = tokenizer(question, padding=True, truncation=True, max_length=max_length, return_tensors='pt')\n",
    "    with torch.no_grad():\n",
    "        model_output = model_question(**encoded_input)\n",
    "    question_embeddings = embed_bert_cls(model_output)\n",
    "    return question_embeddings.tolist()[0]"
   ]
  },
  {
   "cell_type": "code",
   "execution_count": 10,
   "id": "ed10f649-5da8-4583-a96a-30b48f63a09a",
   "metadata": {
    "execution": {
     "iopub.execute_input": "2024-04-28T18:46:53.430156Z",
     "iopub.status.busy": "2024-04-28T18:46:53.429465Z",
     "iopub.status.idle": "2024-04-28T18:46:53.440459Z",
     "shell.execute_reply": "2024-04-28T18:46:53.439664Z",
     "shell.execute_reply.started": "2024-04-28T18:46:53.430108Z"
    },
    "tags": []
   },
   "outputs": [],
   "source": [
    "def pretty_response(response):\n",
    "    to_output = []\n",
    "    ids, distances = response\n",
    "    for i in range(len(ids)):\n",
    "        id = ids[i]\n",
    "        score = distances[i]\n",
    "        text = df['message'][id]\n",
    "        to_output.append([score, id, text])\n",
    "    to_output.sort()\n",
    "    for [score, id, text] in to_output:\n",
    "        pretty_output = f\"\\nID: {id} \\nSummary: {text}\\nScore: {score}\"\n",
    "        print(pretty_output)"
   ]
  },
  {
   "cell_type": "code",
   "execution_count": 11,
   "id": "15a81483-3f86-4843-a7ec-d49ea2be76fe",
   "metadata": {
    "execution": {
     "iopub.execute_input": "2024-04-28T18:46:53.442117Z",
     "iopub.status.busy": "2024-04-28T18:46:53.441605Z",
     "iopub.status.idle": "2024-04-28T18:46:53.466729Z",
     "shell.execute_reply": "2024-04-28T18:46:53.465988Z",
     "shell.execute_reply.started": "2024-04-28T18:46:53.442082Z"
    },
    "tags": []
   },
   "outputs": [],
   "source": [
    "df_test = pd.read_csv('data/test_onestr.csv')"
   ]
  },
  {
   "cell_type": "code",
   "execution_count": null,
   "id": "e8dd32ac-9f2c-4433-8557-b1d94910d0e6",
   "metadata": {
    "execution": {
     "iopub.execute_input": "2024-04-28T18:46:53.468781Z",
     "iopub.status.busy": "2024-04-28T18:46:53.467917Z",
     "iopub.status.idle": "2024-04-28T18:46:53.489261Z",
     "shell.execute_reply": "2024-04-28T18:46:53.488587Z",
     "shell.execute_reply.started": "2024-04-28T18:46:53.468739Z"
    },
    "tags": []
   },
   "outputs": [],
   "source": [
    "def read_list(filename):\n",
    "    with open(filename, 'rb') as fp:\n",
    "        n_list = pickle.load(fp)\n",
    "        return n_list\n",
    "\n",
    "for i in df.index[:10]:\n",
    "    print(df_test['anchor_one_str'][i])\n",
    "    print(df_test[\"positive\"][i])\n",
    "    print()"
   ]
  },
  {
   "cell_type": "code",
   "execution_count": null,
   "id": "4f3012fa-2409-427f-840b-82bb67f6227a",
   "metadata": {
    "execution": {
     "iopub.execute_input": "2024-04-28T18:47:21.547046Z",
     "iopub.status.busy": "2024-04-28T18:47:21.545993Z",
     "iopub.status.idle": "2024-04-28T18:47:21.571309Z",
     "shell.execute_reply": "2024-04-28T18:47:21.570446Z",
     "shell.execute_reply.started": "2024-04-28T18:47:21.546992Z"
    },
    "tags": []
   },
   "outputs": [],
   "source": [
    "context = ''\n",
    "v = get_question_embs(context)\n",
    "pretty_response(u.get_nns_by_vector(v, 20, include_distances=True))"
   ]
  },
  {
   "cell_type": "code",
   "execution_count": null,
   "id": "78679af7-6ec3-47a1-8671-1bfce437c369",
   "metadata": {},
   "outputs": [],
   "source": []
  }
 ],
 "metadata": {
  "kernelspec": {
   "display_name": "DataSphere Kernel",
   "language": "python",
   "name": "python3"
  },
  "language_info": {
   "codemirror_mode": {
    "name": "ipython",
    "version": 3
   },
   "file_extension": ".py",
   "mimetype": "text/x-python",
   "name": "python",
   "nbconvert_exporter": "python",
   "pygments_lexer": "ipython3",
   "version": "3.10.12"
  }
 },
 "nbformat": 4,
 "nbformat_minor": 5
}
